{
  "cells": [
    {
      "cell_type": "markdown",
      "metadata": {
        "id": "e-IqJAMkwnCF"
      },
      "source": [
        "# Advanced Retrieval with LangChain\n",
        "\n",
        "In the following notebook, we'll explore various methods of advanced retrieval using LangChain!\n",
        "\n",
        "We'll touch on:\n",
        "\n",
        "- Naive Retrieval\n",
        "- Best-Matching 25 (BM25)\n",
        "- Multi-Query Retrieval\n",
        "- Parent-Document Retrieval\n",
        "- Contextual Compression (a.k.a. Rerank)\n",
        "- Ensemble Retrieval\n",
        "- Semantic chunking\n",
        "\n",
        "We'll also discuss how these methods impact performance on our set of documents with a simple RAG chain.\n",
        "\n",
        "There will be two breakout rooms:\n",
        "\n",
        "- 🤝 Breakout Room Part #1\n",
        "  - Task 1: Getting Dependencies!\n",
        "  - Task 2: Data Collection and Preparation\n",
        "  - Task 3: Setting Up QDrant!\n",
        "  - Task 4-10: Retrieval Strategies\n",
        "- 🤝 Breakout Room Part #2\n",
        "  - Activity: Evaluate with Ragas"
      ]
    },
    {
      "cell_type": "markdown",
      "metadata": {
        "id": "4rKP3hgHivpe"
      },
      "source": [
        "# 🤝 Breakout Room Part #1"
      ]
    },
    {
      "cell_type": "markdown",
      "metadata": {
        "id": "3xes8oT-xHN7"
      },
      "source": [
        "## Task 1: Getting Dependencies!\n",
        "\n",
        "We're going to need a few specific LangChain community packages, like OpenAI (for our [LLM](https://platform.openai.com/docs/models) and [Embedding Model](https://platform.openai.com/docs/guides/embeddings)) and Cohere (for our [Reranker](https://cohere.com/rerank))."
      ]
    },
    {
      "cell_type": "code",
      "execution_count": 1,
      "metadata": {
        "colab": {
          "base_uri": "https://localhost:8080/"
        },
        "id": "MkgFAXWVW3wm",
        "outputId": "636db35c-f05a-4038-ec7a-02360bef2dae"
      },
      "outputs": [],
      "source": [
        "!pip install -qU langchain langchain-openai langchain-cohere rank_bm25"
      ]
    },
    {
      "cell_type": "markdown",
      "metadata": {
        "id": "dKqYM4Eoxcov"
      },
      "source": [
        "We're also going to be leveraging [Qdrant's](https://qdrant.tech/documentation/frameworks/langchain/) (pronounced \"Quadrant\") VectorDB in \"memory\" mode (so we can leverage it locally in our colab environment)."
      ]
    },
    {
      "cell_type": "code",
      "execution_count": 2,
      "metadata": {
        "id": "s6xav5CxYnML"
      },
      "outputs": [],
      "source": [
        "!pip install -qU qdrant-client"
      ]
    },
    {
      "cell_type": "markdown",
      "metadata": {
        "id": "Z7OHJXzfyJyA"
      },
      "source": [
        "We'll also provide our OpenAI key, as well as our Cohere API key."
      ]
    },
    {
      "cell_type": "code",
      "execution_count": 3,
      "metadata": {
        "colab": {
          "base_uri": "https://localhost:8080/"
        },
        "id": "7LttlDQUYgSI",
        "outputId": "9dca95ab-4d02-4adf-ec3f-cb831326dc54"
      },
      "outputs": [],
      "source": [
        "import os\n",
        "import getpass\n",
        "\n",
        "os.environ[\"OPENAI_API_KEY\"] = getpass.getpass(\"Enter your OpenAI API Key:\")"
      ]
    },
    {
      "cell_type": "code",
      "execution_count": 4,
      "metadata": {
        "colab": {
          "base_uri": "https://localhost:8080/"
        },
        "id": "3iUahNiJyQbv",
        "outputId": "78bf06ef-2ee8-46c3-f73d-27958b4dd79b"
      },
      "outputs": [],
      "source": [
        "os.environ[\"COHERE_API_KEY\"] = getpass.getpass(\"Cohere API Key:\")"
      ]
    },
    {
      "cell_type": "markdown",
      "metadata": {
        "id": "B0pDRFEWSXvh"
      },
      "source": []
    },
    {
      "cell_type": "markdown",
      "metadata": {
        "id": "mw304iAFyRtl"
      },
      "source": [
        "## Task 2: Data Collection and Preparation\n",
        "\n",
        "We'll be using some reviews from the 4 movies in the John Wick franchise today to explore the different retrieval strategies.\n",
        "\n",
        "These were obtained from IMDB, and are available in the [AIM Data Repository](https://github.com/AI-Maker-Space/DataRepository)."
      ]
    },
    {
      "cell_type": "markdown",
      "metadata": {
        "id": "xXKHcZmKzDwT"
      },
      "source": [
        "### Data Collection\n",
        "\n",
        "We can simply `wget` these from GitHub.\n",
        "\n",
        "You could use any review data you wanted in this step - just be careful to make sure your metadata is aligned with your choice."
      ]
    },
    {
      "cell_type": "code",
      "execution_count": 5,
      "metadata": {
        "colab": {
          "base_uri": "https://localhost:8080/"
        },
        "id": "vbbSIGtzX3dS",
        "outputId": "0ce6514e-2479-4001-af24-824f987ce599"
      },
      "outputs": [
        {
          "name": "stdout",
          "output_type": "stream",
          "text": [
            "--2024-09-29 09:25:56--  https://raw.githubusercontent.com/AI-Maker-Space/DataRepository/main/jw1.csv\n",
            "Resolving raw.githubusercontent.com (raw.githubusercontent.com)... 2606:50c0:8000::154, 2606:50c0:8001::154, 2606:50c0:8002::154, ...\n",
            "Connecting to raw.githubusercontent.com (raw.githubusercontent.com)|2606:50c0:8000::154|:443... connected.\n",
            "HTTP request sent, awaiting response... 200 OK\n",
            "Length: 19628 (19K) [text/plain]\n",
            "Saving to: ‘john_wick_1.csv’\n",
            "\n",
            "john_wick_1.csv     100%[===================>]  19.17K  --.-KB/s    in 0.004s  \n",
            "\n",
            "2024-09-29 09:25:56 (4.55 MB/s) - ‘john_wick_1.csv’ saved [19628/19628]\n",
            "\n",
            "--2024-09-29 09:25:57--  https://raw.githubusercontent.com/AI-Maker-Space/DataRepository/main/jw2.csv\n",
            "Resolving raw.githubusercontent.com (raw.githubusercontent.com)... 2606:50c0:8000::154, 2606:50c0:8001::154, 2606:50c0:8002::154, ...\n",
            "Connecting to raw.githubusercontent.com (raw.githubusercontent.com)|2606:50c0:8000::154|:443... connected.\n",
            "HTTP request sent, awaiting response... 200 OK\n",
            "Length: 14747 (14K) [text/plain]\n",
            "Saving to: ‘john_wick_2.csv’\n",
            "\n",
            "john_wick_2.csv     100%[===================>]  14.40K  --.-KB/s    in 0.003s  \n",
            "\n",
            "2024-09-29 09:25:57 (4.47 MB/s) - ‘john_wick_2.csv’ saved [14747/14747]\n",
            "\n",
            "--2024-09-29 09:25:57--  https://raw.githubusercontent.com/AI-Maker-Space/DataRepository/main/jw3.csv\n",
            "Resolving raw.githubusercontent.com (raw.githubusercontent.com)... 2606:50c0:8000::154, 2606:50c0:8001::154, 2606:50c0:8002::154, ...\n",
            "Connecting to raw.githubusercontent.com (raw.githubusercontent.com)|2606:50c0:8000::154|:443... connected.\n",
            "HTTP request sent, awaiting response... 200 OK\n",
            "Length: 13888 (14K) [text/plain]\n",
            "Saving to: ‘john_wick_3.csv’\n",
            "\n",
            "john_wick_3.csv     100%[===================>]  13.56K  --.-KB/s    in 0.004s  \n",
            "\n",
            "2024-09-29 09:25:57 (3.46 MB/s) - ‘john_wick_3.csv’ saved [13888/13888]\n",
            "\n",
            "--2024-09-29 09:25:58--  https://raw.githubusercontent.com/AI-Maker-Space/DataRepository/main/jw4.csv\n",
            "Resolving raw.githubusercontent.com (raw.githubusercontent.com)... 2606:50c0:8000::154, 2606:50c0:8001::154, 2606:50c0:8002::154, ...\n",
            "Connecting to raw.githubusercontent.com (raw.githubusercontent.com)|2606:50c0:8000::154|:443... connected.\n",
            "HTTP request sent, awaiting response... 200 OK\n",
            "Length: 15109 (15K) [text/plain]\n",
            "Saving to: ‘john_wick_4.csv’\n",
            "\n",
            "john_wick_4.csv     100%[===================>]  14.75K  --.-KB/s    in 0.008s  \n",
            "\n",
            "2024-09-29 09:25:58 (1.90 MB/s) - ‘john_wick_4.csv’ saved [15109/15109]\n",
            "\n"
          ]
        }
      ],
      "source": [
        "!wget https://raw.githubusercontent.com/AI-Maker-Space/DataRepository/main/jw1.csv -O john_wick_1.csv\n",
        "!wget https://raw.githubusercontent.com/AI-Maker-Space/DataRepository/main/jw2.csv -O john_wick_2.csv\n",
        "!wget https://raw.githubusercontent.com/AI-Maker-Space/DataRepository/main/jw3.csv -O john_wick_3.csv\n",
        "!wget https://raw.githubusercontent.com/AI-Maker-Space/DataRepository/main/jw4.csv -O john_wick_4.csv"
      ]
    },
    {
      "cell_type": "markdown",
      "metadata": {
        "id": "A92NC2QZzCsi"
      },
      "source": [
        "### Data Preparation\n",
        "\n",
        "We want to make sure all our documents have the relevant metadata for the various retrieval strategies we're going to be applying today.\n",
        "\n",
        "- Self-Query: Wants as much metadata as we can provide\n",
        "- Time-weighted: Wants temporal data\n",
        "\n",
        "> NOTE: While we're creating a temporal relationship based on when these movies came out for illustrative purposes, it needs to be clear that the \"time-weighting\" in the Time-weighted Retriever is based on when the document was *accessed* last - not when it was created."
      ]
    },
    {
      "cell_type": "code",
      "execution_count": 6,
      "metadata": {
        "id": "GshBjVRJZ6p8"
      },
      "outputs": [],
      "source": [
        "from langchain_community.document_loaders.csv_loader import CSVLoader\n",
        "from datetime import datetime, timedelta\n",
        "\n",
        "documents = []\n",
        "\n",
        "for i in range(1, 5):\n",
        "  loader = CSVLoader(\n",
        "      file_path=f\"john_wick_{i}.csv\",\n",
        "      metadata_columns=[\"Review_Date\", \"Review_Title\", \"Review_Url\", \"Author\", \"Rating\"]\n",
        "  )\n",
        "\n",
        "  movie_docs = loader.load()\n",
        "  for doc in movie_docs:\n",
        "\n",
        "    # Add the \"Movie Title\" (John Wick 1, 2, ...)\n",
        "    doc.metadata[\"Movie_Title\"] = f\"John Wick {i}\"\n",
        "\n",
        "    # convert \"Rating\" to an `int`, if no rating is provided - assume 0 rating\n",
        "    doc.metadata[\"Rating\"] = int(doc.metadata[\"Rating\"]) if doc.metadata[\"Rating\"] else 0\n",
        "\n",
        "    # newer movies have a more recent \"last_accessed_at\"\n",
        "    doc.metadata[\"last_accessed_at\"] = datetime.now() - timedelta(days=4-i)\n",
        "\n",
        "  documents.extend(movie_docs)"
      ]
    },
    {
      "cell_type": "markdown",
      "metadata": {
        "id": "9gQphb6y0C0S"
      },
      "source": [
        "Let's look at an example document to see if everything worked as expected!"
      ]
    },
    {
      "cell_type": "code",
      "execution_count": 7,
      "metadata": {
        "colab": {
          "base_uri": "https://localhost:8080/"
        },
        "id": "PkUkCf7DaMiq",
        "outputId": "e90bd5da-1d87-423b-838a-cb6efc16b199"
      },
      "outputs": [
        {
          "data": {
            "text/plain": [
              "Document(metadata={'source': 'john_wick_1.csv', 'row': 0, 'Review_Date': '6 May 2015', 'Review_Title': ' Kinetic, concise, and stylish; John Wick kicks ass.\\n', 'Review_Url': '/review/rw3233896/?ref_=tt_urv', 'Author': 'lnvicta', 'Rating': 8, 'Movie_Title': 'John Wick 1', 'last_accessed_at': datetime.datetime(2024, 9, 26, 9, 25, 58, 853216)}, page_content=\": 0\\nReview: The best way I can describe John Wick is to picture Taken but instead of Liam Neeson it's Keanu Reeves and instead of his daughter it's his dog. That's essentially the plot of the movie. John Wick (Reeves) is out to seek revenge on the people who took something he loved from him. It's a beautifully simple premise for an action movie - when action movies get convoluted, they get bad i.e. A Good Day to Die Hard. John Wick gives the viewers what they want: Awesome action, stylish stunts, kinetic chaos, and a relatable hero to tie it all together. John Wick succeeds in its simplicity.\")"
            ]
          },
          "execution_count": 7,
          "metadata": {},
          "output_type": "execute_result"
        }
      ],
      "source": [
        "documents[0]"
      ]
    },
    {
      "cell_type": "markdown",
      "metadata": {
        "id": "lWaQpdHl0Gzc"
      },
      "source": [
        "## Task 3: Setting up QDrant!\n",
        "\n",
        "Now that we have our documents, let's create a QDrant VectorStore with the collection name \"JohnWick\".\n",
        "\n",
        "We'll leverage OpenAI's [`text-embedding-3-small`](https://openai.com/blog/new-embedding-models-and-api-updates) because it's a very powerful (and low-cost) embedding model.\n",
        "\n",
        "> NOTE: We'll be creating additional vectorstores where necessary, but this pattern is still extremely useful."
      ]
    },
    {
      "cell_type": "code",
      "execution_count": 8,
      "metadata": {
        "id": "NT8ihRJbYmMT"
      },
      "outputs": [],
      "source": [
        "from langchain_community.vectorstores import Qdrant\n",
        "from langchain_openai import OpenAIEmbeddings\n",
        "\n",
        "embeddings = OpenAIEmbeddings(model=\"text-embedding-3-small\")\n",
        "\n",
        "vectorstore = Qdrant.from_documents(\n",
        "    documents,\n",
        "    embeddings,\n",
        "    location=\":memory:\",\n",
        "    collection_name=\"JohnWick\"\n",
        ")"
      ]
    },
    {
      "cell_type": "markdown",
      "metadata": {
        "id": "-x2SS4Rh0hiN"
      },
      "source": [
        "## Task 4: Naive RAG Chain\n",
        "\n",
        "Since we're focusing on the \"R\" in RAG today - we'll create our Retriever first."
      ]
    },
    {
      "cell_type": "markdown",
      "metadata": {
        "id": "NEH7X5Ai08FH"
      },
      "source": [
        "### R - Retrieval\n",
        "\n",
        "This naive retriever will simply look at each review as a document, and use cosine-similarity to fetch the 10 most relevant documents.\n",
        "\n",
        "> NOTE: We're choosing `10` as our `k` here to provide enough documents for our reranking process later"
      ]
    },
    {
      "cell_type": "code",
      "execution_count": 9,
      "metadata": {
        "id": "GFDPrNBtb72o"
      },
      "outputs": [],
      "source": [
        "naive_retriever = vectorstore.as_retriever(search_kwargs={\"k\" : 10})"
      ]
    },
    {
      "cell_type": "markdown",
      "metadata": {
        "id": "MbBhyQjz06dx"
      },
      "source": [
        "### A - Augmented\n",
        "\n",
        "We're going to go with a standard prompt for our simple RAG chain today! Nothing fancy here, we want this to mostly be about the Retrieval process."
      ]
    },
    {
      "cell_type": "code",
      "execution_count": 10,
      "metadata": {
        "id": "7uSz-Dbqcoki"
      },
      "outputs": [],
      "source": [
        "from langchain_core.prompts import ChatPromptTemplate\n",
        "\n",
        "RAG_TEMPLATE = \"\"\"\\\n",
        "You are a helpful and kind assistant. Use the context provided below to answer the question.\n",
        "\n",
        "If you do not know the answer, or are unsure, say you don't know.\n",
        "\n",
        "Query:\n",
        "{question}\n",
        "\n",
        "Context:\n",
        "{context}\n",
        "\"\"\"\n",
        "\n",
        "rag_prompt = ChatPromptTemplate.from_template(RAG_TEMPLATE)"
      ]
    },
    {
      "cell_type": "markdown",
      "metadata": {
        "id": "BlRzpb231GGJ"
      },
      "source": [
        "### G - Generation\n",
        "\n",
        "We're going to leverage `gpt-3.5-turbo` as our LLM today, as - again - we want this to largely be about the Retrieval process."
      ]
    },
    {
      "cell_type": "code",
      "execution_count": 11,
      "metadata": {
        "id": "c-1t9H60dJLg"
      },
      "outputs": [],
      "source": [
        "from langchain_openai import ChatOpenAI\n",
        "\n",
        "chat_model = ChatOpenAI()"
      ]
    },
    {
      "cell_type": "markdown",
      "metadata": {
        "id": "mg3QRGzA1M2x"
      },
      "source": [
        "### LCEL RAG Chain\n",
        "\n",
        "We're going to use LCEL to construct our chain.\n",
        "\n",
        "> NOTE: This chain will be exactly the same across the various examples with the exception of our Retriever!"
      ]
    },
    {
      "cell_type": "code",
      "execution_count": 12,
      "metadata": {
        "id": "0bvstS7mdOW3"
      },
      "outputs": [],
      "source": [
        "from langchain_core.runnables import RunnablePassthrough\n",
        "from operator import itemgetter\n",
        "from langchain_core.output_parsers import StrOutputParser\n",
        "\n",
        "naive_retrieval_chain = (\n",
        "    # INVOKE CHAIN WITH: {\"question\" : \"<<SOME USER QUESTION>>\"}\n",
        "    # \"question\" : populated by getting the value of the \"question\" key\n",
        "    # \"context\"  : populated by getting the value of the \"question\" key and chaining it into the base_retriever\n",
        "    {\"context\": itemgetter(\"question\") | naive_retriever, \"question\": itemgetter(\"question\")}\n",
        "    # \"context\"  : is assigned to a RunnablePassthrough object (will not be called or considered in the next step)\n",
        "    #              by getting the value of the \"context\" key from the previous step\n",
        "    | RunnablePassthrough.assign(context=itemgetter(\"context\"))\n",
        "    # \"response\" : the \"context\" and \"question\" values are used to format our prompt object and then piped\n",
        "    #              into the LLM and stored in a key called \"response\"\n",
        "    # \"context\"  : populated by getting the value of the \"context\" key from the previous step\n",
        "    | {\"response\": rag_prompt | chat_model, \"context\": itemgetter(\"context\")}\n",
        ")"
      ]
    },
    {
      "cell_type": "markdown",
      "metadata": {
        "id": "izKujhNb1ZG8"
      },
      "source": [
        "Let's see how this simple chain does on a few different prompts.\n",
        "\n",
        "> NOTE: You might think that we've cherry picked prompts that showcase the individual skill of each of the retrieval strategies - you'd be correct!"
      ]
    },
    {
      "cell_type": "code",
      "execution_count": 13,
      "metadata": {
        "colab": {
          "base_uri": "https://localhost:8080/",
          "height": 36
        },
        "id": "LI-5ueEddku9",
        "outputId": "7f3cec18-5f4e-41bb-cf71-51ba0be5388e"
      },
      "outputs": [
        {
          "data": {
            "text/plain": [
              "\"Based on the reviews provided, it seems that people generally liked John Wick. The movie received positive feedback for its action sequences, Keanu Reeves' performance, and the overall entertainment value it provided.\""
            ]
          },
          "execution_count": 13,
          "metadata": {},
          "output_type": "execute_result"
        }
      ],
      "source": [
        "naive_retrieval_chain.invoke({\"question\" : \"Did people generally like John Wick?\"})[\"response\"].content"
      ]
    },
    {
      "cell_type": "code",
      "execution_count": 14,
      "metadata": {
        "colab": {
          "base_uri": "https://localhost:8080/",
          "height": 36
        },
        "id": "43zdcdUydtXh",
        "outputId": "db874e67-f568-4ed1-b863-b7c17b387052"
      },
      "outputs": [
        {
          "data": {
            "text/plain": [
              "'Yes, there is a review with a rating of 10. The review is titled \"A Masterpiece & Brilliant Sequel\" by the author ymyuseda, for the movie \"John Wick 3\". The URL to that review is \\'/review/rw4854296/?ref_=tt_urv\\'.'"
            ]
          },
          "execution_count": 14,
          "metadata": {},
          "output_type": "execute_result"
        }
      ],
      "source": [
        "naive_retrieval_chain.invoke({\"question\" : \"Do any reviews have a rating of 10? If so - can I have the URLs to those reviews?\"})[\"response\"].content"
      ]
    },
    {
      "cell_type": "code",
      "execution_count": 15,
      "metadata": {
        "colab": {
          "base_uri": "https://localhost:8080/",
          "height": 70
        },
        "id": "lpG6rlvvvKFq",
        "outputId": "a1b330b0-628e-41be-d829-9c1d55e781f5"
      },
      "outputs": [
        {
          "data": {
            "text/plain": [
              "\"In John Wick, an ex-hitman comes out of retirement to seek vengeance against the gangsters who killed his dog and took everything from him. He unleashes a maelstrom of destruction against those who try to chase him, leading to intense action sequences and a relentless vendetta. The story revolves around John Wick's quest for retribution and the consequences of his actions.\""
            ]
          },
          "execution_count": 15,
          "metadata": {},
          "output_type": "execute_result"
        }
      ],
      "source": [
        "naive_retrieval_chain.invoke({\"question\" : \"What happened in John Wick?\"})[\"response\"].content"
      ]
    },
    {
      "cell_type": "markdown",
      "metadata": {
        "id": "jsbfQmbr1leg"
      },
      "source": [
        "Overall, this is not bad! Let's see if we can make it better!"
      ]
    },
    {
      "cell_type": "markdown",
      "metadata": {
        "id": "Ft1vt8HPR16w"
      },
      "source": [
        "## Task 5: Best-Matching 25 (BM25) Retriever\n",
        "\n",
        "Taking a step back in time - [BM25](https://www.nowpublishers.com/article/Details/INR-019) is based on [Bag-Of-Words](https://en.wikipedia.org/wiki/Bag-of-words_model) which is a sparse representation of text.\n",
        "\n",
        "In essence, it's a way to compare how similar two pieces of text are based on the words they both contain.\n",
        "\n",
        "This retriever is very straightforward to set-up! Let's see it happen down below!\n"
      ]
    },
    {
      "cell_type": "code",
      "execution_count": 16,
      "metadata": {
        "id": "qdF4wuj5R-cG"
      },
      "outputs": [],
      "source": [
        "from langchain_community.retrievers import BM25Retriever\n",
        "\n",
        "bm25_retriever = BM25Retriever.from_documents(documents)"
      ]
    },
    {
      "cell_type": "markdown",
      "metadata": {
        "id": "KIjJlBQ8drKH"
      },
      "source": [
        "We'll construct the same chain - only changing the retriever."
      ]
    },
    {
      "cell_type": "code",
      "execution_count": 17,
      "metadata": {
        "id": "WR15EQG7SLuw"
      },
      "outputs": [],
      "source": [
        "naive_retrieval_chain = (\n",
        "    {\"context\": itemgetter(\"question\") | bm25_retriever, \"question\": itemgetter(\"question\")}\n",
        "    | RunnablePassthrough.assign(context=itemgetter(\"context\"))\n",
        "    | {\"response\": rag_prompt | chat_model, \"context\": itemgetter(\"context\")}\n",
        ")"
      ]
    },
    {
      "cell_type": "markdown",
      "metadata": {
        "id": "0Gi-yXCDdvJk"
      },
      "source": [
        "Let's look at the responses!"
      ]
    },
    {
      "cell_type": "code",
      "execution_count": 18,
      "metadata": {
        "colab": {
          "base_uri": "https://localhost:8080/",
          "height": 53
        },
        "id": "oY9qzmm3SOrF",
        "outputId": "4d4f450f-5978-460f-f242-b32407868353"
      },
      "outputs": [
        {
          "data": {
            "text/plain": [
              "\"It seems that opinions on John Wick vary among viewers. Some people really enjoyed the movie and found it to be a must-see for action fans, while others thought it was lacking in plot and substance. So, it's safe to say that not everyone liked John Wick.\""
            ]
          },
          "execution_count": 18,
          "metadata": {},
          "output_type": "execute_result"
        }
      ],
      "source": [
        "naive_retrieval_chain.invoke({\"question\" : \"Did people generally like John Wick?\"})[\"response\"].content"
      ]
    },
    {
      "cell_type": "code",
      "execution_count": 19,
      "metadata": {
        "colab": {
          "base_uri": "https://localhost:8080/",
          "height": 36
        },
        "id": "igfinyneSQkh",
        "outputId": "9752d4a9-dd16-45b1-f63f-a76e93a05eb3"
      },
      "outputs": [
        {
          "data": {
            "text/plain": [
              "\"I'm sorry, there are no reviews with a rating of 10 in the context provided.\""
            ]
          },
          "execution_count": 19,
          "metadata": {},
          "output_type": "execute_result"
        }
      ],
      "source": [
        "naive_retrieval_chain.invoke({\"question\" : \"Do any reviews have a rating of 10? If so - can I have the URLs to those reviews?\"})[\"response\"].content"
      ]
    },
    {
      "cell_type": "code",
      "execution_count": 20,
      "metadata": {
        "colab": {
          "base_uri": "https://localhost:8080/",
          "height": 53
        },
        "id": "w0H7pV_USSMQ",
        "outputId": "bdead654-3109-4143-9a30-e1d6ca8dc534"
      },
      "outputs": [
        {
          "data": {
            "text/plain": [
              "'In John Wick, the main character, played by Keanu Reeves, is on a path of revenge after his dog is killed, leading to intense action scenes and a storyline filled with emotional depth.'"
            ]
          },
          "execution_count": 20,
          "metadata": {},
          "output_type": "execute_result"
        }
      ],
      "source": [
        "naive_retrieval_chain.invoke({\"question\" : \"What happened in John Wick?\"})[\"response\"].content"
      ]
    },
    {
      "cell_type": "markdown",
      "metadata": {
        "id": "zvg5xHaUdxCl"
      },
      "source": [
        "It's not clear that this is better or worse - but the `I don't know` isn't great!"
      ]
    },
    {
      "cell_type": "markdown",
      "metadata": {
        "id": "Q-dcbFn2vpZF"
      },
      "source": [
        "## Task 6: Contextual Compression (Using Reranking)\n",
        "\n",
        "Contextual Compression is a fairly straightforward idea: We want to \"compress\" our retrieved context into just the most useful bits.\n",
        "\n",
        "There are a few ways we can achieve this - but we're going to look at a specific example called reranking.\n",
        "\n",
        "The basic idea here is this:\n",
        "\n",
        "- We retrieve lots of documents that are very likely related to our query vector\n",
        "- We \"compress\" those documents into a smaller set of *more* related documents using a reranking algorithm.\n",
        "\n",
        "We'll be leveraging Cohere's Rerank model for our reranker today!\n",
        "\n",
        "All we need to do is the following:\n",
        "\n",
        "- Create a basic retriever\n",
        "- Create a compressor (reranker, in this case)\n",
        "\n",
        "That's it!\n",
        "\n",
        "Let's see it in the code below!"
      ]
    },
    {
      "cell_type": "code",
      "execution_count": 21,
      "metadata": {
        "id": "psHvO2K1v_ZQ"
      },
      "outputs": [],
      "source": [
        "from langchain.retrievers.contextual_compression import ContextualCompressionRetriever\n",
        "from langchain_cohere import CohereRerank\n",
        "\n",
        "compressor = CohereRerank(model=\"rerank-english-v3.0\")\n",
        "compression_retriever = ContextualCompressionRetriever(\n",
        "    base_compressor=compressor, base_retriever=naive_retriever\n",
        ")"
      ]
    },
    {
      "cell_type": "markdown",
      "metadata": {
        "id": "_TA9RB2x-j7P"
      },
      "source": [
        "Let's create our chain again, and see how this does!"
      ]
    },
    {
      "cell_type": "code",
      "execution_count": 22,
      "metadata": {
        "id": "1BXqmxvHwX6T"
      },
      "outputs": [],
      "source": [
        "contextual_compression_retrieval_chain = (\n",
        "    {\"context\": itemgetter(\"question\") | compression_retriever, \"question\": itemgetter(\"question\")}\n",
        "    | RunnablePassthrough.assign(context=itemgetter(\"context\"))\n",
        "    | {\"response\": rag_prompt | chat_model, \"context\": itemgetter(\"context\")}\n",
        ")"
      ]
    },
    {
      "cell_type": "code",
      "execution_count": 23,
      "metadata": {
        "colab": {
          "base_uri": "https://localhost:8080/",
          "height": 36
        },
        "id": "V3iGpokswcBb",
        "outputId": "f15d2aa1-5e8b-417d-f623-eb835d072e59"
      },
      "outputs": [
        {
          "data": {
            "text/plain": [
              "'Yes, people generally liked John Wick based on the reviews provided.'"
            ]
          },
          "execution_count": 23,
          "metadata": {},
          "output_type": "execute_result"
        }
      ],
      "source": [
        "contextual_compression_retrieval_chain.invoke({\"question\" : \"Did people generally like John Wick?\"})[\"response\"].content"
      ]
    },
    {
      "cell_type": "code",
      "execution_count": 24,
      "metadata": {
        "colab": {
          "base_uri": "https://localhost:8080/",
          "height": 53
        },
        "id": "7u_k0i4OweUd",
        "outputId": "be5fccc8-2352-4189-c524-bbeaa28cf799"
      },
      "outputs": [
        {
          "data": {
            "text/plain": [
              "'Yes, there is a review with a rating of 10. Here is the URL to that review: /review/rw4854296/?ref_=tt_urv.'"
            ]
          },
          "execution_count": 24,
          "metadata": {},
          "output_type": "execute_result"
        }
      ],
      "source": [
        "contextual_compression_retrieval_chain.invoke({\"question\" : \"Do any reviews have a rating of 10? If so - can I have the URLs to those reviews?\"})[\"response\"].content"
      ]
    },
    {
      "cell_type": "code",
      "execution_count": 25,
      "metadata": {
        "colab": {
          "base_uri": "https://localhost:8080/",
          "height": 70
        },
        "id": "zn1EqaGqweXN",
        "outputId": "42bc5972-4164-46eb-f49d-4272f39bb89b"
      },
      "outputs": [
        {
          "data": {
            "text/plain": [
              "'In John Wick, after resolving his issues with the Russian mafia, John Wick is forced back into action by a mobster who blows up his house and asks him to kill his sister so he can take her place in a criminal organization. Wick completes the task but then becomes the target of a seven-million dollar contract placed on his head by the same mobster. Wick sets out to kill the mobster in revenge.'"
            ]
          },
          "execution_count": 25,
          "metadata": {},
          "output_type": "execute_result"
        }
      ],
      "source": [
        "contextual_compression_retrieval_chain.invoke({\"question\" : \"What happened in John Wick?\"})[\"response\"].content"
      ]
    },
    {
      "cell_type": "markdown",
      "metadata": {
        "id": "OEbT0g2S-mZ4"
      },
      "source": [
        "We'll need to rely on something like Ragas to help us get a better sense of how this is performing overall - but it \"feels\" better!"
      ]
    },
    {
      "cell_type": "markdown",
      "metadata": {
        "id": "qqbghrBEQNn5"
      },
      "source": [
        "## Task 7: Multi-Query Retriever\n",
        "\n",
        "Typically in RAG we have a single query - the one provided by the user.\n",
        "\n",
        "What if we had....more than one query!\n",
        "\n",
        "In essence, a Multi-Query Retriever works by:\n",
        "\n",
        "1. Taking the original user query and creating `n` number of new user queries using an LLM.\n",
        "2. Retrieving documents for each query.\n",
        "3. Using all unique retrieved documents as context\n",
        "\n",
        "So, how is it to set-up? Not bad! Let's see it down below!\n",
        "\n"
      ]
    },
    {
      "cell_type": "code",
      "execution_count": 26,
      "metadata": {
        "id": "pfM26ReXQjzU"
      },
      "outputs": [],
      "source": [
        "from langchain.retrievers.multi_query import MultiQueryRetriever\n",
        "\n",
        "multi_query_retriever = MultiQueryRetriever.from_llm(\n",
        "    retriever=naive_retriever, llm=chat_model\n",
        ")"
      ]
    },
    {
      "cell_type": "code",
      "execution_count": 27,
      "metadata": {
        "id": "1vRc129jQ5WW"
      },
      "outputs": [],
      "source": [
        "multi_query_retrieval_chain = (\n",
        "    {\"context\": itemgetter(\"question\") | multi_query_retriever, \"question\": itemgetter(\"question\")}\n",
        "    | RunnablePassthrough.assign(context=itemgetter(\"context\"))\n",
        "    | {\"response\": rag_prompt | chat_model, \"context\": itemgetter(\"context\")}\n",
        ")"
      ]
    },
    {
      "cell_type": "code",
      "execution_count": 28,
      "metadata": {
        "colab": {
          "base_uri": "https://localhost:8080/",
          "height": 53
        },
        "id": "CGgNuOb3Q3M9",
        "outputId": "c5273ecf-da35-40b8-fbdb-0f8beab425f7"
      },
      "outputs": [
        {
          "data": {
            "text/plain": [
              "'Yes, based on the reviews provided, people generally liked John Wick.'"
            ]
          },
          "execution_count": 28,
          "metadata": {},
          "output_type": "execute_result"
        }
      ],
      "source": [
        "multi_query_retrieval_chain.invoke({\"question\" : \"Did people generally like John Wick?\"})[\"response\"].content"
      ]
    },
    {
      "cell_type": "code",
      "execution_count": 29,
      "metadata": {
        "colab": {
          "base_uri": "https://localhost:8080/",
          "height": 36
        },
        "id": "aAlSthxrRDBC",
        "outputId": "230ff807-23ae-4d25-8d11-cfdbed0b77cb"
      },
      "outputs": [
        {
          "data": {
            "text/plain": [
              "\"I'm sorry, but there are no reviews with a rating of 10 in the context provided.\""
            ]
          },
          "execution_count": 29,
          "metadata": {},
          "output_type": "execute_result"
        }
      ],
      "source": [
        "multi_query_retrieval_chain.invoke({\"question\" : \"Do any reviews have a rating of 10? If so - can I have the URLs to those reviews?\"})[\"response\"].content"
      ]
    },
    {
      "cell_type": "code",
      "execution_count": 30,
      "metadata": {
        "colab": {
          "base_uri": "https://localhost:8080/",
          "height": 88
        },
        "id": "Uv1mpCK8REs4",
        "outputId": "00fbc22a-ed9b-4613-9695-0b179e3f8369"
      },
      "outputs": [
        {
          "data": {
            "text/plain": [
              "\"In John Wick, the main character, played by Keanu Reeves, is a retired assassin who gets pulled back into the world of killing when his car is stolen, leading to a lot of carnage. He is then called on to pay off an old debt by helping Ian McShane take over the Assassin's Guild by traveling to Italy, Canada, and Manhattan, and killing many assassins along the way.\""
            ]
          },
          "execution_count": 30,
          "metadata": {},
          "output_type": "execute_result"
        }
      ],
      "source": [
        "multi_query_retrieval_chain.invoke({\"question\" : \"What happened in John Wick?\"})[\"response\"].content"
      ]
    },
    {
      "cell_type": "markdown",
      "metadata": {
        "id": "EDEawBf_d_3G"
      },
      "source": [
        "## Task 8: Parent Document Retriever\n",
        "\n",
        "A \"small-to-big\" strategy - the Parent Document Retriever works based on a simple strategy:\n",
        "\n",
        "1. Each un-split \"document\" will be designated as a \"parent document\" (You could use larger chunks of document as well, but our data format allows us to consider the overall document as the parent chunk)\n",
        "2. Store those \"parent documents\" in a memory store (not a VectorStore)\n",
        "3. We will chunk each of those documents into smaller documents, and associate them with their respective parents, and store those in a VectorStore. We'll call those \"child chunks\".\n",
        "4. When we query our Retriever, we will do a similarity search comparing our query vector to the \"child chunks\".\n",
        "5. Instead of returning the \"child chunks\", we'll return their associated \"parent chunks\".\n",
        "\n",
        "Okay, maybe that was a few steps - but the basic idea is this:\n",
        "\n",
        "- Search for small documents\n",
        "- Return big documents\n",
        "\n",
        "The intuition is that we're likely to find the most relevant information by limiting the amount of semantic information that is encoded in each embedding vector - but we're likely to miss relevant surrounding context if we only use that information.\n",
        "\n",
        "Let's start by creating our \"parent documents\" and defining a `RecursiveCharacterTextSplitter`."
      ]
    },
    {
      "cell_type": "code",
      "execution_count": 31,
      "metadata": {
        "id": "qJ53JJuMd_ZH"
      },
      "outputs": [],
      "source": [
        "from langchain.retrievers import ParentDocumentRetriever\n",
        "from langchain.storage import InMemoryStore\n",
        "from langchain_text_splitters import RecursiveCharacterTextSplitter\n",
        "from qdrant_client import QdrantClient, models\n",
        "\n",
        "parent_docs = documents\n",
        "child_splitter = RecursiveCharacterTextSplitter(chunk_size=200)"
      ]
    },
    {
      "cell_type": "markdown",
      "metadata": {
        "id": "oOpXfVUH3gL3"
      },
      "source": [
        "We'll need to set up a new QDrant vectorstore - and we'll use another useful pattern to do so!\n",
        "\n",
        "> NOTE: We are manually defining our embedding dimension, you'll need to change this if you're using a different embedding model."
      ]
    },
    {
      "cell_type": "code",
      "execution_count": 32,
      "metadata": {
        "colab": {
          "base_uri": "https://localhost:8080/"
        },
        "id": "rzFc-_9HlGQ-",
        "outputId": "223662dd-c36f-42f7-d1b0-b086e571484e"
      },
      "outputs": [
        {
          "name": "stderr",
          "output_type": "stream",
          "text": [
            "/var/folders/s4/zblsys792ms27n7gzbf6nt340000gn/T/ipykernel_9038/3574430551.py:8: LangChainDeprecationWarning: The class `Qdrant` was deprecated in LangChain 0.0.37 and will be removed in 1.0. An updated version of the class exists in the :class:`~langchain-qdrant package and should be used instead. To use it run `pip install -U :class:`~langchain-qdrant` and import as `from :class:`~langchain_qdrant import Qdrant``.\n",
            "  parent_document_vectorstore = Qdrant(\n"
          ]
        }
      ],
      "source": [
        "client = QdrantClient(location=\":memory:\")\n",
        "\n",
        "client.create_collection(\n",
        "    collection_name=\"full_documents\",\n",
        "    vectors_config=models.VectorParams(size=1536, distance=models.Distance.COSINE)\n",
        ")\n",
        "\n",
        "parent_document_vectorstore = Qdrant(\n",
        "    collection_name=\"full_documents\", embeddings=OpenAIEmbeddings(model=\"text-embedding-3-small\"), client=client\n",
        ")"
      ]
    },
    {
      "cell_type": "markdown",
      "metadata": {
        "id": "sf_g95FA3s6w"
      },
      "source": [
        "Now we can create our `InMemoryStore` that will hold our \"parent documents\" - and build our retriever!"
      ]
    },
    {
      "cell_type": "code",
      "execution_count": 33,
      "metadata": {
        "id": "BpWVjPf4fLUp"
      },
      "outputs": [],
      "source": [
        "store = InMemoryStore()\n",
        "\n",
        "parent_document_retriever = ParentDocumentRetriever(\n",
        "    vectorstore = parent_document_vectorstore,\n",
        "    docstore=store,\n",
        "    child_splitter=child_splitter,\n",
        ")"
      ]
    },
    {
      "cell_type": "markdown",
      "metadata": {
        "id": "KoYmSWfE32Zo"
      },
      "source": [
        "By default, this is empty as we haven't added any documents - let's add some now!"
      ]
    },
    {
      "cell_type": "code",
      "execution_count": 34,
      "metadata": {
        "id": "iQ2ZzfKigMZc"
      },
      "outputs": [],
      "source": [
        "parent_document_retriever.add_documents(parent_docs, ids=None)"
      ]
    },
    {
      "cell_type": "markdown",
      "metadata": {
        "id": "bI7Tip1335rE"
      },
      "source": [
        "We'll create the same chain we did before - but substitute our new `parent_document_retriever`."
      ]
    },
    {
      "cell_type": "code",
      "execution_count": 35,
      "metadata": {
        "id": "Qq_adt2KlSqp"
      },
      "outputs": [],
      "source": [
        "parent_document_retrieval_chain = (\n",
        "    {\"context\": itemgetter(\"question\") | parent_document_retriever, \"question\": itemgetter(\"question\")}\n",
        "    | RunnablePassthrough.assign(context=itemgetter(\"context\"))\n",
        "    | {\"response\": rag_prompt | chat_model, \"context\": itemgetter(\"context\")}\n",
        ")"
      ]
    },
    {
      "cell_type": "markdown",
      "metadata": {
        "id": "jNolUVQb4Apt"
      },
      "source": [
        "Let's give it a whirl!"
      ]
    },
    {
      "cell_type": "code",
      "execution_count": 36,
      "metadata": {
        "colab": {
          "base_uri": "https://localhost:8080/",
          "height": 70
        },
        "id": "TXB5i89Zly5W",
        "outputId": "94c240be-7c5b-4c58-9eee-56d93285a054"
      },
      "outputs": [
        {
          "data": {
            "text/plain": [
              "\"People's opinions on John Wick seem to vary. Some really enjoy the series and find it consistent and well-received, while others have negative views on specific installments like John Wick 4. There seems to be a mix of positive and negative reviews, so it depends on personal preference.\""
            ]
          },
          "execution_count": 36,
          "metadata": {},
          "output_type": "execute_result"
        }
      ],
      "source": [
        "parent_document_retrieval_chain.invoke({\"question\" : \"Did people generally like John Wick?\"})[\"response\"].content"
      ]
    },
    {
      "cell_type": "code",
      "execution_count": 37,
      "metadata": {
        "colab": {
          "base_uri": "https://localhost:8080/",
          "height": 36
        },
        "id": "V5F1T-wNl3cg",
        "outputId": "9b81e72e-5db7-4b8a-b25b-400ea0df5335"
      },
      "outputs": [
        {
          "data": {
            "text/plain": [
              "\"Yes, there is a review with a rating of 10. Here is the URL to that review: '/review/rw4854296/?ref_=tt_urv'.\""
            ]
          },
          "execution_count": 37,
          "metadata": {},
          "output_type": "execute_result"
        }
      ],
      "source": [
        "parent_document_retrieval_chain.invoke({\"question\" : \"Do any reviews have a rating of 10? If so - can I have the URLs to those reviews?\"})[\"response\"].content"
      ]
    },
    {
      "cell_type": "code",
      "execution_count": 38,
      "metadata": {
        "colab": {
          "base_uri": "https://localhost:8080/",
          "height": 70
        },
        "id": "ZqARszGzvGcG",
        "outputId": "8867f83c-db13-4db4-d57f-9bd51d32cd8a"
      },
      "outputs": [
        {
          "data": {
            "text/plain": [
              "\"In John Wick, the main character, played by Keanu Reeves, is a retired assassin who comes out of retirement after someone kills his dog in the first movie. In the second movie, he is forced back into the world of assassination when an Italian baddie calls in a favor and he has no choice but to accept. John Wick then goes on a mission to help Ian McShane take over the Assassin's Guild by traveling to Italy, Canada, and Manhattan, killing numerous assassins along the way.\""
            ]
          },
          "execution_count": 38,
          "metadata": {},
          "output_type": "execute_result"
        }
      ],
      "source": [
        "parent_document_retrieval_chain.invoke({\"question\" : \"What happened in John Wick?\"})[\"response\"].content"
      ]
    },
    {
      "cell_type": "markdown",
      "metadata": {
        "id": "B41cj42s4DPM"
      },
      "source": [
        "Overall, the performance *seems* largely the same. We can leverage a tool like [Ragas]() to more effectively answer the question about the performance."
      ]
    },
    {
      "cell_type": "markdown",
      "metadata": {
        "id": "VUrIBKl_TwS9"
      },
      "source": [
        "## Task 9: Ensemble Retriever\n",
        "\n",
        "In brief, an Ensemble Retriever simply takes 2, or more, retrievers and combines their retrieved documents based on a rank-fusion algorithm.\n",
        "\n",
        "In this case - we're using the [Reciprocal Rank Fusion](https://plg.uwaterloo.ca/~gvcormac/cormacksigir09-rrf.pdf) algorithm.\n",
        "\n",
        "Setting it up is as easy as providing a list of our desired retrievers - and the weights for each retriever."
      ]
    },
    {
      "cell_type": "code",
      "execution_count": 39,
      "metadata": {
        "id": "8j7jpZsKTxic"
      },
      "outputs": [],
      "source": [
        "from langchain.retrievers import EnsembleRetriever\n",
        "\n",
        "retriever_list = [bm25_retriever, naive_retriever, parent_document_retriever, compression_retriever, multi_query_retriever]\n",
        "equal_weighting = [1/len(retriever_list)] * len(retriever_list)\n",
        "\n",
        "ensemble_retriever = EnsembleRetriever(\n",
        "    retrievers=retriever_list, weights=equal_weighting\n",
        ")"
      ]
    },
    {
      "cell_type": "markdown",
      "metadata": {
        "id": "kpo9Psl5hhJ-"
      },
      "source": [
        "We'll pack *all* of these retrievers together in an ensemble."
      ]
    },
    {
      "cell_type": "code",
      "execution_count": 40,
      "metadata": {
        "id": "KZ__EZwpUKkd"
      },
      "outputs": [],
      "source": [
        "ensemble_retrieval_chain = (\n",
        "    {\"context\": itemgetter(\"question\") | ensemble_retriever, \"question\": itemgetter(\"question\")}\n",
        "    | RunnablePassthrough.assign(context=itemgetter(\"context\"))\n",
        "    | {\"response\": rag_prompt | chat_model, \"context\": itemgetter(\"context\")}\n",
        ")"
      ]
    },
    {
      "cell_type": "markdown",
      "metadata": {
        "id": "SSsvHpRMj24L"
      },
      "source": [
        "Let's look at our results!"
      ]
    },
    {
      "cell_type": "code",
      "execution_count": 41,
      "metadata": {
        "colab": {
          "base_uri": "https://localhost:8080/",
          "height": 70
        },
        "id": "0lMvqL88UQI-",
        "outputId": "d86dd5f7-0a13-4836-c0ce-cc4c431fd889"
      },
      "outputs": [
        {
          "data": {
            "text/plain": [
              "\"Based on the reviews provided, it seems that people generally liked John Wick. Multiple reviews mention the impressive action sequences, Keanu Reeves' performance, and the overall entertainment value of the movie. The reviews praise the film for its stylish action, fluid choreography, and engaging plot. Overall, it appears that John Wick was well-received by those who watched it.\""
            ]
          },
          "execution_count": 41,
          "metadata": {},
          "output_type": "execute_result"
        }
      ],
      "source": [
        "ensemble_retrieval_chain.invoke({\"question\" : \"Did people generally like John Wick?\"})[\"response\"].content"
      ]
    },
    {
      "cell_type": "code",
      "execution_count": 42,
      "metadata": {
        "colab": {
          "base_uri": "https://localhost:8080/",
          "height": 53
        },
        "id": "MNFWLYECURI1",
        "outputId": "b17973b5-66a9-4481-97d5-880b5754b5c5"
      },
      "outputs": [
        {
          "data": {
            "text/plain": [
              "'Yes, there is a review with a rating of 10 for \"John Wick 3.\" Here is the URL to that review: \\'/review/rw4854296/?ref_=tt_urv\\''"
            ]
          },
          "execution_count": 42,
          "metadata": {},
          "output_type": "execute_result"
        }
      ],
      "source": [
        "ensemble_retrieval_chain.invoke({\"question\" : \"Do any reviews have a rating of 10? If so - can I have the URLs to those reviews?\"})[\"response\"].content"
      ]
    },
    {
      "cell_type": "code",
      "execution_count": 43,
      "metadata": {
        "colab": {
          "base_uri": "https://localhost:8080/",
          "height": 88
        },
        "id": "A7qbHfWgUR4c",
        "outputId": "f7373144-59ef-4fc7-b75d-ca00e7df881e"
      },
      "outputs": [
        {
          "data": {
            "text/plain": [
              "'In John Wick, an ex-hitman comes out of retirement to seek revenge on the gangsters who killed his dog and took everything from him. The story is filled with violent action, shootouts, and breathtaking fights as John Wick faces off against Russian mobsters and other assassins who are after him.'"
            ]
          },
          "execution_count": 43,
          "metadata": {},
          "output_type": "execute_result"
        }
      ],
      "source": [
        "ensemble_retrieval_chain.invoke({\"question\" : \"What happened in John Wick?\"})[\"response\"].content"
      ]
    },
    {
      "cell_type": "markdown",
      "metadata": {
        "id": "MopbkNJAXVaN"
      },
      "source": [
        "## Task 10: Semantic Chunking\n",
        "\n",
        "While this is not a retrieval method - it *is* an effective way of increasing retrieval performance on corpora that have clean semantic breaks in them.\n",
        "\n",
        "Essentially, Semantic Chunking is implemented by:\n",
        "\n",
        "1. Embedding all sentences in the corpus.\n",
        "2. Combining or splitting sequences of sentences based on their semantic similarity based on a number of [possible thresholding methods](https://python.langchain.com/docs/how_to/semantic-chunker/):\n",
        "  - `percentile`\n",
        "  - `standard_deviation`\n",
        "  - `interquartile`\n",
        "  - `gradient`\n",
        "3. Each sequence of related sentences is kept as a document!\n",
        "\n",
        "Let's see how to implement this!"
      ]
    },
    {
      "cell_type": "code",
      "execution_count": 44,
      "metadata": {
        "colab": {
          "base_uri": "https://localhost:8080/"
        },
        "id": "1dHeB-yGXneL",
        "outputId": "efc59105-518a-4134-9228-d98b8a97e08e"
      },
      "outputs": [],
      "source": [
        "!pip install -qU langchain_experimental"
      ]
    },
    {
      "cell_type": "markdown",
      "metadata": {
        "id": "U9ciZbFEldv_"
      },
      "source": [
        "We'll use the `percentile` thresholding method for this example which will:\n",
        "\n",
        "Calculate all distances between sentences, and then break apart sequences of setences that exceed a given percentile among all distances."
      ]
    },
    {
      "cell_type": "code",
      "execution_count": 45,
      "metadata": {
        "id": "66EIEWiEYl5y"
      },
      "outputs": [],
      "source": [
        "from langchain_experimental.text_splitter import SemanticChunker\n",
        "\n",
        "semantic_chunker = SemanticChunker(\n",
        "    embeddings,\n",
        "    breakpoint_threshold_type=\"percentile\"\n",
        ")"
      ]
    },
    {
      "cell_type": "markdown",
      "metadata": {
        "id": "YqoKmz12mhRW"
      },
      "source": [
        "Now we can split our documents."
      ]
    },
    {
      "cell_type": "code",
      "execution_count": 46,
      "metadata": {
        "id": "ROcV7o68ZIq7"
      },
      "outputs": [],
      "source": [
        "semantic_documents = semantic_chunker.split_documents(documents)"
      ]
    },
    {
      "cell_type": "markdown",
      "metadata": {
        "id": "L8-LNC-Xmjex"
      },
      "source": [
        "Let's create a new vector store."
      ]
    },
    {
      "cell_type": "code",
      "execution_count": 47,
      "metadata": {
        "id": "h3sl9QjyZhIe"
      },
      "outputs": [],
      "source": [
        "semantic_vectorstore = Qdrant.from_documents(\n",
        "    semantic_documents,\n",
        "    embeddings,\n",
        "    location=\":memory:\",\n",
        "    collection_name=\"JohnWickSemantic\"\n",
        ")"
      ]
    },
    {
      "cell_type": "markdown",
      "metadata": {
        "id": "Eh_r_-LHmmKn"
      },
      "source": [
        "We'll use naive retrieval for this example."
      ]
    },
    {
      "cell_type": "code",
      "execution_count": 48,
      "metadata": {
        "id": "odVyDUHwZftc"
      },
      "outputs": [],
      "source": [
        "semantic_retriever = semantic_vectorstore.as_retriever(search_kwargs={\"k\" : 10})"
      ]
    },
    {
      "cell_type": "markdown",
      "metadata": {
        "id": "Mkeiv_ojmp6G"
      },
      "source": [
        "Finally we can create our classic chain!"
      ]
    },
    {
      "cell_type": "code",
      "execution_count": 49,
      "metadata": {
        "id": "xWE_0J0mZveG"
      },
      "outputs": [],
      "source": [
        "semantic_retrieval_chain = (\n",
        "    {\"context\": itemgetter(\"question\") | semantic_retriever, \"question\": itemgetter(\"question\")}\n",
        "    | RunnablePassthrough.assign(context=itemgetter(\"context\"))\n",
        "    | {\"response\": rag_prompt | chat_model, \"context\": itemgetter(\"context\")}\n",
        ")"
      ]
    },
    {
      "cell_type": "markdown",
      "metadata": {
        "id": "R5pfjLQ3ms9_"
      },
      "source": [
        "And view the results!"
      ]
    },
    {
      "cell_type": "code",
      "execution_count": 50,
      "metadata": {
        "colab": {
          "base_uri": "https://localhost:8080/",
          "height": 70
        },
        "id": "0lN2j-e4Z0SD",
        "outputId": "ef483e21-7200-4dfc-b8bf-aed4f23587b2"
      },
      "outputs": [
        {
          "data": {
            "text/plain": [
              "'Yes, people generally liked John Wick based on the positive reviews provided.'"
            ]
          },
          "execution_count": 50,
          "metadata": {},
          "output_type": "execute_result"
        }
      ],
      "source": [
        "ensemble_retrieval_chain.invoke({\"question\" : \"Did people generally like John Wick?\"})[\"response\"].content"
      ]
    },
    {
      "cell_type": "code",
      "execution_count": 51,
      "metadata": {
        "colab": {
          "base_uri": "https://localhost:8080/",
          "height": 53
        },
        "id": "xdqfBH1SZ3f9",
        "outputId": "ed62b2d1-7586-46cc-aaf4-c54192a56155"
      },
      "outputs": [
        {
          "data": {
            "text/plain": [
              "'Yes, there is a review with a rating of 10. Here is the URL to that review:\\n- Review: [A Masterpiece & Brilliant Sequel](https://www.imdb.com/review/rw4854296/?ref_=tt_urv)'"
            ]
          },
          "execution_count": 51,
          "metadata": {},
          "output_type": "execute_result"
        }
      ],
      "source": [
        "ensemble_retrieval_chain.invoke({\"question\" : \"Do any reviews have a rating of 10? If so - can I have the URLs to those reviews?\"})[\"response\"].content"
      ]
    },
    {
      "cell_type": "code",
      "execution_count": 52,
      "metadata": {
        "colab": {
          "base_uri": "https://localhost:8080/",
          "height": 70
        },
        "id": "rAcAObZnZ4o6",
        "outputId": "3f1cade3-41e4-4e42-ef71-048dd18e5e3a"
      },
      "outputs": [
        {
          "data": {
            "text/plain": [
              "'In John Wick, the story follows an ex-hitman who comes out of retirement seeking vengeance after gangsters kill his dog and take everything from him. He unleashes a maelstrom of destruction against those who try to chase him, leading to intense action sequences and confrontations with various adversaries.'"
            ]
          },
          "execution_count": 52,
          "metadata": {},
          "output_type": "execute_result"
        }
      ],
      "source": [
        "ensemble_retrieval_chain.invoke({\"question\" : \"What happened in John Wick?\"})[\"response\"].content"
      ]
    },
    {
      "cell_type": "markdown",
      "metadata": {
        "id": "xk2n3-pnVWDJ"
      },
      "source": [
        "# 🤝 Breakout Room Part #2"
      ]
    },
    {
      "cell_type": "markdown",
      "metadata": {
        "id": "2SkJLYwMVZkj"
      },
      "source": [
        "#### 🏗️ Activity #1\n",
        "\n",
        "Your task is to evaluate the various Retriever methods against eachother.\n",
        "\n",
        "You are expected to:\n",
        "\n",
        "1. Create a \"golden dataset\"\n",
        " - Use Synthetic Data Generation (powered by Ragas, or otherwise) to create this dataset\n",
        "2. Evaluate each retriever with *retriever specific* Ragas metrics\n",
        " - Semantic Chunking is not considered a retriever method and will not be required for marks, but you may find it useful to do a \"semantic chunking on\" vs. \"semantic chunking off\" comparision between them\n",
        "3. Compile these in a list and write a small paragraph about which is best for this particular data and why.\n",
        "\n",
        "Your analysis should factor in:\n",
        "  - Cost\n",
        "  - Latency\n",
        "  - Performance\n",
        "\n",
        "> NOTE: This is **NOT** required to be completed in class. Please spend time in your breakout rooms creating a plan before moving on to writing code."
      ]
    },
    {
      "cell_type": "markdown",
      "metadata": {
        "id": "TWAr16a5XMub"
      },
      "source": [
        "##### HINTS:\n",
        "\n",
        "- LangSmith provides detailed information about latency and cost."
      ]
    },
    {
      "cell_type": "code",
      "execution_count": 53,
      "metadata": {
        "id": "tgDICngKXLGK"
      },
      "outputs": [],
      "source": [
        "### YOUR CODE HERE"
      ]
    },
    {
      "cell_type": "code",
      "execution_count": 54,
      "metadata": {},
      "outputs": [],
      "source": [
        "import os\n",
        "from uuid import uuid4\n",
        "LANGCHAIN_API_KEY = os.environ.get(\"LANGCHAIN_API_KEY\")\n",
        "# LANGCHAIN_TRACING_V2 = True\n",
        "# LANGCHAIN_PROJECT=\"Advanced RAG\"\n",
        "OPENAI_API_KEY = os.environ.get(\"OPENAI_API_KEY\")\n",
        "COHERE_API_KEY = os.environ.get(\"COHERE_API_KEY\")\n",
        "\n",
        "unique_id = uuid4().hex[0:8]\n",
        "\n",
        "os.environ[\"LANGCHAIN_TRACING_V2\"] = \"true\"\n",
        "os.environ[\"LANGCHAIN_PROJECT\"] = f\"Advanced RAG - {unique_id}\""
      ]
    },
    {
      "cell_type": "code",
      "execution_count": 55,
      "metadata": {},
      "outputs": [],
      "source": [
        "from langchain_community.document_loaders.csv_loader import CSVLoader\n",
        "from datetime import datetime, timedelta\n",
        "\n",
        "documents = []\n",
        "\n",
        "for i in range(1, 5):\n",
        "  loader = CSVLoader(\n",
        "      file_path=f\"john_wick_{i}.csv\",\n",
        "      metadata_columns=[\"Review_Date\", \"Review_Title\", \"Review_Url\", \"Author\", \"Rating\"]\n",
        "  )\n",
        "\n",
        "  movie_docs = loader.load()\n",
        "  for doc in movie_docs:\n",
        "\n",
        "    # Add the \"Movie Title\" (John Wick 1, 2, ...)\n",
        "    doc.metadata[\"Movie_Title\"] = f\"John Wick {i}\"\n",
        "\n",
        "    # convert \"Rating\" to an `int`, if no rating is provided - assume 0 rating\n",
        "    doc.metadata[\"Rating\"] = int(doc.metadata[\"Rating\"]) if doc.metadata[\"Rating\"] else 0\n",
        "\n",
        "    # newer movies have a more recent \"last_accessed_at\"\n",
        "    doc.metadata[\"last_accessed_at\"] = datetime.now() - timedelta(days=4-i)\n",
        "\n",
        "  documents.extend(movie_docs)"
      ]
    },
    {
      "cell_type": "code",
      "execution_count": 56,
      "metadata": {},
      "outputs": [
        {
          "data": {
            "text/plain": [
              "Document(metadata={'source': 'john_wick_1.csv', 'row': 0, 'Review_Date': '6 May 2015', 'Review_Title': ' Kinetic, concise, and stylish; John Wick kicks ass.\\n', 'Review_Url': '/review/rw3233896/?ref_=tt_urv', 'Author': 'lnvicta', 'Rating': 8, 'Movie_Title': 'John Wick 1', 'last_accessed_at': datetime.datetime(2024, 9, 27, 16, 49, 1, 570054)}, page_content=\": 0\\nReview: The best way I can describe John Wick is to picture Taken but instead of Liam Neeson it's Keanu Reeves and instead of his daughter it's his dog. That's essentially the plot of the movie. John Wick (Reeves) is out to seek revenge on the people who took something he loved from him. It's a beautifully simple premise for an action movie - when action movies get convoluted, they get bad i.e. A Good Day to Die Hard. John Wick gives the viewers what they want: Awesome action, stylish stunts, kinetic chaos, and a relatable hero to tie it all together. John Wick succeeds in its simplicity.\")"
            ]
          },
          "execution_count": 56,
          "metadata": {},
          "output_type": "execute_result"
        }
      ],
      "source": [
        "documents[0]\n"
      ]
    },
    {
      "cell_type": "markdown",
      "metadata": {},
      "source": [
        "## SET UP RAG\n"
      ]
    },
    {
      "cell_type": "code",
      "execution_count": 57,
      "metadata": {},
      "outputs": [],
      "source": [
        "from langchain_community.vectorstores  import Qdrant\n",
        "from langchain_openai import OpenAIEmbeddings\n",
        "\n",
        "\n",
        "\n",
        "embeddings = OpenAIEmbeddings(model=\"text-embedding-3-small\")\n",
        "\n",
        "\n",
        "vectorstore = Qdrant.from_documents(\n",
        "    documents,\n",
        "    embeddings,\n",
        "    location=\":memory:\",\n",
        "    collection_name=\"John\"\n",
        ")"
      ]
    },
    {
      "cell_type": "code",
      "execution_count": 58,
      "metadata": {},
      "outputs": [],
      "source": [
        "naive_retriever = vectorstore.as_retriever(search_kwargs={\"k\" : 10})\n"
      ]
    },
    {
      "cell_type": "code",
      "execution_count": 59,
      "metadata": {},
      "outputs": [],
      "source": [
        "from langchain_core.prompts import ChatPromptTemplate\n",
        "\n",
        "RAG_TEMPLATE = \"\"\"\\\n",
        "You are a helpful and kind assistant. Use the context provided below to answer the question.\n",
        "\n",
        "If you do not know the answer, or are unsure, say you don't know.\n",
        "\n",
        "Query:\n",
        "{question}\n",
        "\n",
        "Context:\n",
        "{context}\n",
        "\"\"\"\n",
        "\n",
        "rag_prompt = ChatPromptTemplate.from_template(RAG_TEMPLATE)"
      ]
    },
    {
      "cell_type": "code",
      "execution_count": 60,
      "metadata": {},
      "outputs": [],
      "source": [
        "from langchain_openai import ChatOpenAI\n",
        "\n",
        "chat_model = ChatOpenAI(seed=42)"
      ]
    },
    {
      "cell_type": "code",
      "execution_count": 61,
      "metadata": {},
      "outputs": [],
      "source": [
        "from langchain_core.runnables import RunnablePassthrough\n",
        "from operator import itemgetter\n",
        "from langchain_core.output_parsers import StrOutputParser\n",
        "\n",
        "naive_retrieval_chain = (\n",
        "    {\"context\": itemgetter(\"question\") | naive_retriever, \"question\": itemgetter(\"question\")}\n",
        "    | RunnablePassthrough.assign(context=itemgetter(\"context\"))\n",
        "    | {\"response\": rag_prompt | chat_model, \"context\": itemgetter(\"context\")}\n",
        ")"
      ]
    },
    {
      "cell_type": "markdown",
      "metadata": {},
      "source": [
        "## SET UP RAGAS\n"
      ]
    },
    {
      "cell_type": "code",
      "execution_count": 66,
      "metadata": {},
      "outputs": [],
      "source": [
        "! pip -q install ragas"
      ]
    },
    {
      "cell_type": "code",
      "execution_count": 68,
      "metadata": {},
      "outputs": [
        {
          "name": "stdout",
          "output_type": "stream",
          "text": [
            "Requirement already satisfied: langchain in /opt/homebrew/Caskroom/miniforge/base/envs/llmops-course/lib/python3.11/site-packages (0.2.16)\n",
            "Collecting langchain\n",
            "  Using cached langchain-0.3.1-py3-none-any.whl.metadata (7.1 kB)\n",
            "Requirement already satisfied: langchain-community in /opt/homebrew/Caskroom/miniforge/base/envs/llmops-course/lib/python3.11/site-packages (0.2.17)\n",
            "Collecting langchain-community\n",
            "  Using cached langchain_community-0.3.1-py3-none-any.whl.metadata (2.8 kB)\n",
            "Requirement already satisfied: ragas in /opt/homebrew/Caskroom/miniforge/base/envs/llmops-course/lib/python3.11/site-packages (0.1.20)\n",
            "Requirement already satisfied: PyYAML>=5.3 in /opt/homebrew/Caskroom/miniforge/base/envs/llmops-course/lib/python3.11/site-packages (from langchain) (6.0.2)\n",
            "Requirement already satisfied: SQLAlchemy<3,>=1.4 in /opt/homebrew/Caskroom/miniforge/base/envs/llmops-course/lib/python3.11/site-packages (from langchain) (2.0.35)\n",
            "Requirement already satisfied: aiohttp<4.0.0,>=3.8.3 in /opt/homebrew/Caskroom/miniforge/base/envs/llmops-course/lib/python3.11/site-packages (from langchain) (3.10.8)\n",
            "Collecting langchain-core<0.4.0,>=0.3.6 (from langchain)\n",
            "  Downloading langchain_core-0.3.7-py3-none-any.whl.metadata (6.3 kB)\n",
            "Collecting langchain-text-splitters<0.4.0,>=0.3.0 (from langchain)\n",
            "  Using cached langchain_text_splitters-0.3.0-py3-none-any.whl.metadata (2.3 kB)\n",
            "Requirement already satisfied: langsmith<0.2.0,>=0.1.17 in /opt/homebrew/Caskroom/miniforge/base/envs/llmops-course/lib/python3.11/site-packages (from langchain) (0.1.129)\n",
            "Requirement already satisfied: numpy<2,>=1 in /opt/homebrew/Caskroom/miniforge/base/envs/llmops-course/lib/python3.11/site-packages (from langchain) (1.26.4)\n",
            "Requirement already satisfied: pydantic<3.0.0,>=2.7.4 in /opt/homebrew/Caskroom/miniforge/base/envs/llmops-course/lib/python3.11/site-packages (from langchain) (2.9.2)\n",
            "Requirement already satisfied: requests<3,>=2 in /opt/homebrew/Caskroom/miniforge/base/envs/llmops-course/lib/python3.11/site-packages (from langchain) (2.32.3)\n",
            "Requirement already satisfied: tenacity!=8.4.0,<9.0.0,>=8.1.0 in /opt/homebrew/Caskroom/miniforge/base/envs/llmops-course/lib/python3.11/site-packages (from langchain) (8.5.0)\n",
            "Requirement already satisfied: dataclasses-json<0.7,>=0.5.7 in /opt/homebrew/Caskroom/miniforge/base/envs/llmops-course/lib/python3.11/site-packages (from langchain-community) (0.6.7)\n",
            "Requirement already satisfied: pydantic-settings<3.0.0,>=2.4.0 in /opt/homebrew/Caskroom/miniforge/base/envs/llmops-course/lib/python3.11/site-packages (from langchain-community) (2.5.2)\n",
            "Requirement already satisfied: datasets in /opt/homebrew/Caskroom/miniforge/base/envs/llmops-course/lib/python3.11/site-packages (from ragas) (3.0.1)\n",
            "Requirement already satisfied: tiktoken in /opt/homebrew/Caskroom/miniforge/base/envs/llmops-course/lib/python3.11/site-packages (from ragas) (0.7.0)\n",
            "INFO: pip is looking at multiple versions of ragas to determine which version is compatible with other requirements. This could take a while.\n",
            "Collecting ragas\n",
            "  Using cached ragas-0.1.20-py3-none-any.whl.metadata (5.5 kB)\n",
            "  Downloading ragas-0.1.19-py3-none-any.whl.metadata (5.4 kB)\n",
            "Requirement already satisfied: langchain-openai in /opt/homebrew/Caskroom/miniforge/base/envs/llmops-course/lib/python3.11/site-packages (from ragas) (0.1.25)\n",
            "Requirement already satisfied: openai>1 in /opt/homebrew/Caskroom/miniforge/base/envs/llmops-course/lib/python3.11/site-packages (from ragas) (1.50.2)\n",
            "Requirement already satisfied: pysbd>=0.3.4 in /opt/homebrew/Caskroom/miniforge/base/envs/llmops-course/lib/python3.11/site-packages (from ragas) (0.3.4)\n",
            "Requirement already satisfied: nest-asyncio in /opt/homebrew/Caskroom/miniforge/base/envs/llmops-course/lib/python3.11/site-packages (from ragas) (1.6.0)\n",
            "Requirement already satisfied: appdirs in /opt/homebrew/Caskroom/miniforge/base/envs/llmops-course/lib/python3.11/site-packages (from ragas) (1.4.4)\n",
            "Requirement already satisfied: aiohappyeyeballs>=2.3.0 in /opt/homebrew/Caskroom/miniforge/base/envs/llmops-course/lib/python3.11/site-packages (from aiohttp<4.0.0,>=3.8.3->langchain) (2.4.2)\n",
            "Requirement already satisfied: aiosignal>=1.1.2 in /opt/homebrew/Caskroom/miniforge/base/envs/llmops-course/lib/python3.11/site-packages (from aiohttp<4.0.0,>=3.8.3->langchain) (1.3.1)\n",
            "Requirement already satisfied: attrs>=17.3.0 in /opt/homebrew/Caskroom/miniforge/base/envs/llmops-course/lib/python3.11/site-packages (from aiohttp<4.0.0,>=3.8.3->langchain) (24.2.0)\n",
            "Requirement already satisfied: frozenlist>=1.1.1 in /opt/homebrew/Caskroom/miniforge/base/envs/llmops-course/lib/python3.11/site-packages (from aiohttp<4.0.0,>=3.8.3->langchain) (1.4.1)\n",
            "Requirement already satisfied: multidict<7.0,>=4.5 in /opt/homebrew/Caskroom/miniforge/base/envs/llmops-course/lib/python3.11/site-packages (from aiohttp<4.0.0,>=3.8.3->langchain) (6.1.0)\n",
            "Requirement already satisfied: yarl<2.0,>=1.12.0 in /opt/homebrew/Caskroom/miniforge/base/envs/llmops-course/lib/python3.11/site-packages (from aiohttp<4.0.0,>=3.8.3->langchain) (1.13.1)\n",
            "Requirement already satisfied: marshmallow<4.0.0,>=3.18.0 in /opt/homebrew/Caskroom/miniforge/base/envs/llmops-course/lib/python3.11/site-packages (from dataclasses-json<0.7,>=0.5.7->langchain-community) (3.22.0)\n",
            "Requirement already satisfied: typing-inspect<1,>=0.4.0 in /opt/homebrew/Caskroom/miniforge/base/envs/llmops-course/lib/python3.11/site-packages (from dataclasses-json<0.7,>=0.5.7->langchain-community) (0.9.0)\n",
            "Requirement already satisfied: jsonpatch<2.0,>=1.33 in /opt/homebrew/Caskroom/miniforge/base/envs/llmops-course/lib/python3.11/site-packages (from langchain-core<0.4.0,>=0.3.6->langchain) (1.33)\n",
            "Requirement already satisfied: packaging<25,>=23.2 in /opt/homebrew/Caskroom/miniforge/base/envs/llmops-course/lib/python3.11/site-packages (from langchain-core<0.4.0,>=0.3.6->langchain) (24.1)\n",
            "Requirement already satisfied: typing-extensions>=4.7 in /opt/homebrew/Caskroom/miniforge/base/envs/llmops-course/lib/python3.11/site-packages (from langchain-core<0.4.0,>=0.3.6->langchain) (4.12.2)\n",
            "Requirement already satisfied: httpx<1,>=0.23.0 in /opt/homebrew/Caskroom/miniforge/base/envs/llmops-course/lib/python3.11/site-packages (from langsmith<0.2.0,>=0.1.17->langchain) (0.27.2)\n",
            "Requirement already satisfied: orjson<4.0.0,>=3.9.14 in /opt/homebrew/Caskroom/miniforge/base/envs/llmops-course/lib/python3.11/site-packages (from langsmith<0.2.0,>=0.1.17->langchain) (3.10.7)\n",
            "Requirement already satisfied: anyio<5,>=3.5.0 in /opt/homebrew/Caskroom/miniforge/base/envs/llmops-course/lib/python3.11/site-packages (from openai>1->ragas) (4.6.0)\n",
            "Requirement already satisfied: distro<2,>=1.7.0 in /opt/homebrew/Caskroom/miniforge/base/envs/llmops-course/lib/python3.11/site-packages (from openai>1->ragas) (1.9.0)\n",
            "Requirement already satisfied: jiter<1,>=0.4.0 in /opt/homebrew/Caskroom/miniforge/base/envs/llmops-course/lib/python3.11/site-packages (from openai>1->ragas) (0.5.0)\n",
            "Requirement already satisfied: sniffio in /opt/homebrew/Caskroom/miniforge/base/envs/llmops-course/lib/python3.11/site-packages (from openai>1->ragas) (1.3.1)\n",
            "Requirement already satisfied: tqdm>4 in /opt/homebrew/Caskroom/miniforge/base/envs/llmops-course/lib/python3.11/site-packages (from openai>1->ragas) (4.66.5)\n",
            "Requirement already satisfied: annotated-types>=0.6.0 in /opt/homebrew/Caskroom/miniforge/base/envs/llmops-course/lib/python3.11/site-packages (from pydantic<3.0.0,>=2.7.4->langchain) (0.7.0)\n",
            "Requirement already satisfied: pydantic-core==2.23.4 in /opt/homebrew/Caskroom/miniforge/base/envs/llmops-course/lib/python3.11/site-packages (from pydantic<3.0.0,>=2.7.4->langchain) (2.23.4)\n",
            "Requirement already satisfied: python-dotenv>=0.21.0 in /opt/homebrew/Caskroom/miniforge/base/envs/llmops-course/lib/python3.11/site-packages (from pydantic-settings<3.0.0,>=2.4.0->langchain-community) (1.0.1)\n",
            "Requirement already satisfied: charset-normalizer<4,>=2 in /opt/homebrew/Caskroom/miniforge/base/envs/llmops-course/lib/python3.11/site-packages (from requests<3,>=2->langchain) (3.3.2)\n",
            "Requirement already satisfied: idna<4,>=2.5 in /opt/homebrew/Caskroom/miniforge/base/envs/llmops-course/lib/python3.11/site-packages (from requests<3,>=2->langchain) (3.10)\n",
            "Requirement already satisfied: urllib3<3,>=1.21.1 in /opt/homebrew/Caskroom/miniforge/base/envs/llmops-course/lib/python3.11/site-packages (from requests<3,>=2->langchain) (2.2.3)\n",
            "Requirement already satisfied: certifi>=2017.4.17 in /opt/homebrew/Caskroom/miniforge/base/envs/llmops-course/lib/python3.11/site-packages (from requests<3,>=2->langchain) (2024.8.30)\n",
            "Requirement already satisfied: filelock in /opt/homebrew/Caskroom/miniforge/base/envs/llmops-course/lib/python3.11/site-packages (from datasets->ragas) (3.16.1)\n",
            "Requirement already satisfied: pyarrow>=15.0.0 in /opt/homebrew/Caskroom/miniforge/base/envs/llmops-course/lib/python3.11/site-packages (from datasets->ragas) (17.0.0)\n",
            "Requirement already satisfied: dill<0.3.9,>=0.3.0 in /opt/homebrew/Caskroom/miniforge/base/envs/llmops-course/lib/python3.11/site-packages (from datasets->ragas) (0.3.8)\n",
            "Requirement already satisfied: pandas in /opt/homebrew/Caskroom/miniforge/base/envs/llmops-course/lib/python3.11/site-packages (from datasets->ragas) (2.2.3)\n",
            "Requirement already satisfied: xxhash in /opt/homebrew/Caskroom/miniforge/base/envs/llmops-course/lib/python3.11/site-packages (from datasets->ragas) (3.5.0)\n",
            "Requirement already satisfied: multiprocess in /opt/homebrew/Caskroom/miniforge/base/envs/llmops-course/lib/python3.11/site-packages (from datasets->ragas) (0.70.16)\n",
            "Requirement already satisfied: fsspec<=2024.6.1,>=2023.1.0 in /opt/homebrew/Caskroom/miniforge/base/envs/llmops-course/lib/python3.11/site-packages (from fsspec[http]<=2024.6.1,>=2023.1.0->datasets->ragas) (2024.6.1)\n",
            "Requirement already satisfied: huggingface-hub>=0.22.0 in /opt/homebrew/Caskroom/miniforge/base/envs/llmops-course/lib/python3.11/site-packages (from datasets->ragas) (0.25.1)\n",
            "INFO: pip is looking at multiple versions of langchain-openai to determine which version is compatible with other requirements. This could take a while.\n",
            "Collecting langchain-openai (from ragas)\n",
            "  Using cached langchain_openai-0.2.1-py3-none-any.whl.metadata (2.6 kB)\n",
            "Requirement already satisfied: regex>=2022.1.18 in /opt/homebrew/Caskroom/miniforge/base/envs/llmops-course/lib/python3.11/site-packages (from tiktoken->ragas) (2024.9.11)\n",
            "Requirement already satisfied: httpcore==1.* in /opt/homebrew/Caskroom/miniforge/base/envs/llmops-course/lib/python3.11/site-packages (from httpx<1,>=0.23.0->langsmith<0.2.0,>=0.1.17->langchain) (1.0.5)\n",
            "Requirement already satisfied: h11<0.15,>=0.13 in /opt/homebrew/Caskroom/miniforge/base/envs/llmops-course/lib/python3.11/site-packages (from httpcore==1.*->httpx<1,>=0.23.0->langsmith<0.2.0,>=0.1.17->langchain) (0.14.0)\n",
            "Requirement already satisfied: jsonpointer>=1.9 in /opt/homebrew/Caskroom/miniforge/base/envs/llmops-course/lib/python3.11/site-packages (from jsonpatch<2.0,>=1.33->langchain-core<0.4.0,>=0.3.6->langchain) (3.0.0)\n",
            "Requirement already satisfied: mypy-extensions>=0.3.0 in /opt/homebrew/Caskroom/miniforge/base/envs/llmops-course/lib/python3.11/site-packages (from typing-inspect<1,>=0.4.0->dataclasses-json<0.7,>=0.5.7->langchain-community) (1.0.0)\n",
            "Requirement already satisfied: python-dateutil>=2.8.2 in /opt/homebrew/Caskroom/miniforge/base/envs/llmops-course/lib/python3.11/site-packages (from pandas->datasets->ragas) (2.9.0)\n",
            "Requirement already satisfied: pytz>=2020.1 in /opt/homebrew/Caskroom/miniforge/base/envs/llmops-course/lib/python3.11/site-packages (from pandas->datasets->ragas) (2024.2)\n",
            "Requirement already satisfied: tzdata>=2022.7 in /opt/homebrew/Caskroom/miniforge/base/envs/llmops-course/lib/python3.11/site-packages (from pandas->datasets->ragas) (2024.2)\n",
            "Requirement already satisfied: six>=1.5 in /opt/homebrew/Caskroom/miniforge/base/envs/llmops-course/lib/python3.11/site-packages (from python-dateutil>=2.8.2->pandas->datasets->ragas) (1.16.0)\n",
            "Using cached langchain-0.3.1-py3-none-any.whl (1.0 MB)\n",
            "Using cached langchain_community-0.3.1-py3-none-any.whl (2.4 MB)\n",
            "Downloading ragas-0.1.19-py3-none-any.whl (190 kB)\n",
            "Downloading langchain_core-0.3.7-py3-none-any.whl (400 kB)\n",
            "Using cached langchain_text_splitters-0.3.0-py3-none-any.whl (25 kB)\n",
            "Using cached langchain_openai-0.2.1-py3-none-any.whl (49 kB)\n",
            "Installing collected packages: langchain-core, langchain-text-splitters, langchain-openai, langchain, langchain-community, ragas\n",
            "  Attempting uninstall: langchain-core\n",
            "    Found existing installation: langchain-core 0.2.41\n",
            "    Uninstalling langchain-core-0.2.41:\n",
            "      Successfully uninstalled langchain-core-0.2.41\n",
            "  Attempting uninstall: langchain-text-splitters\n",
            "    Found existing installation: langchain-text-splitters 0.2.4\n",
            "    Uninstalling langchain-text-splitters-0.2.4:\n",
            "      Successfully uninstalled langchain-text-splitters-0.2.4\n",
            "  Attempting uninstall: langchain-openai\n",
            "    Found existing installation: langchain-openai 0.1.25\n",
            "    Uninstalling langchain-openai-0.1.25:\n",
            "      Successfully uninstalled langchain-openai-0.1.25\n",
            "  Attempting uninstall: langchain\n",
            "    Found existing installation: langchain 0.2.16\n",
            "    Uninstalling langchain-0.2.16:\n",
            "      Successfully uninstalled langchain-0.2.16\n",
            "  Attempting uninstall: langchain-community\n",
            "    Found existing installation: langchain-community 0.2.17\n",
            "    Uninstalling langchain-community-0.2.17:\n",
            "      Successfully uninstalled langchain-community-0.2.17\n",
            "  Attempting uninstall: ragas\n",
            "    Found existing installation: ragas 0.1.20\n",
            "    Uninstalling ragas-0.1.20:\n",
            "      Successfully uninstalled ragas-0.1.20\n",
            "Successfully installed langchain-0.3.1 langchain-community-0.3.1 langchain-core-0.3.7 langchain-openai-0.2.1 langchain-text-splitters-0.3.0 ragas-0.1.19\n",
            "Note: you may need to restart the kernel to use updated packages.\n"
          ]
        }
      ],
      "source": [
        "pip install --upgrade langchain langchain-community ragas"
      ]
    },
    {
      "cell_type": "code",
      "execution_count": 69,
      "metadata": {},
      "outputs": [
        {
          "name": "stderr",
          "output_type": "stream",
          "text": [
            "/opt/homebrew/Caskroom/miniforge/base/envs/llmops-course/lib/python3.11/site-packages/pydantic/_internal/_fields.py:132: UserWarning: Field \"model_name\" in _VertexAIBase has conflict with protected namespace \"model_\".\n",
            "\n",
            "You may be able to resolve this warning by setting `model_config['protected_namespaces'] = ()`.\n",
            "  warnings.warn(\n",
            "/opt/homebrew/Caskroom/miniforge/base/envs/llmops-course/lib/python3.11/site-packages/pydantic/_internal/_fields.py:132: UserWarning: Field \"model_name\" in _VertexAICommon has conflict with protected namespace \"model_\".\n",
            "\n",
            "You may be able to resolve this warning by setting `model_config['protected_namespaces'] = ()`.\n",
            "  warnings.warn(\n",
            "/opt/homebrew/Caskroom/miniforge/base/envs/llmops-course/lib/python3.11/site-packages/tqdm/auto.py:21: TqdmWarning: IProgress not found. Please update jupyter and ipywidgets. See https://ipywidgets.readthedocs.io/en/stable/user_install.html\n",
            "  from .autonotebook import tqdm as notebook_tqdm\n",
            "/opt/homebrew/Caskroom/miniforge/base/envs/llmops-course/lib/python3.11/site-packages/ragas/metrics/__init__.py:8: LangChainDeprecationWarning: As of langchain-core 0.3.0, LangChain uses pydantic v2 internally. The langchain.pydantic_v1 module was a compatibility shim for pydantic v1, and should no longer be used. Please update the code to import from Pydantic directly.\n",
            "\n",
            "For example, replace imports like: `from langchain.pydantic_v1 import BaseModel`\n",
            "with: `from pydantic import BaseModel`\n",
            "or the v1 compatibility namespace if you are working in a code base that has not been fully upgraded to pydantic 2 yet. \tfrom pydantic.v1 import BaseModel\n",
            "\n",
            "  from ragas.metrics._context_entities_recall import (\n"
          ]
        }
      ],
      "source": [
        "from operator import itemgetter\n",
        "from ragas.testset.generator import TestsetGenerator\n",
        "from ragas.testset.evolutions import simple, reasoning, multi_context\n",
        "from langchain_openai import ChatOpenAI, OpenAIEmbeddings\n",
        "\n",
        "generator_llm = ChatOpenAI(model=\"gpt-4o-mini\")\n",
        "critic_llm = ChatOpenAI(model=\"gpt-4o\")\n",
        "embeddings = OpenAIEmbeddings()\n",
        "\n",
        "generator = TestsetGenerator.from_langchain(\n",
        "    generator_llm,\n",
        "    critic_llm,\n",
        "    embeddings\n",
        ")\n",
        "\n",
        "distributions = {\n",
        "    simple: 0.5,\n",
        "    multi_context: 0.4,\n",
        "    reasoning: 0.1\n",
        "}"
      ]
    },
    {
      "cell_type": "code",
      "execution_count": 82,
      "metadata": {},
      "outputs": [
        {
          "name": "stdout",
          "output_type": "stream",
          "text": [
            "Number of documents: 100\n",
            "page_content=': 0\n",
            "Review: The best way I can describe John Wick is to picture Taken but instead of Liam Neeson it's Keanu Reeves and instead of his daughter it's his dog. That's essentially the plot of the movie. John Wick (Reeves) is out to seek revenge on the people who took something he loved from him. It's a beautifully simple premise for an action movie - when action movies get convoluted, they get bad i.e. A Good Day to Die Hard. John Wick gives the viewers what they want: Awesome action, stylish stunts, kinetic chaos, and a relatable hero to tie it all together. John Wick succeeds in its simplicity.' metadata={'source': 'john_wick_1.csv', 'row': 0, 'Review_Date': '6 May 2015', 'Review_Title': ' Kinetic, concise, and stylish; John Wick kicks ass.\\n', 'Review_Url': '/review/rw3233896/?ref_=tt_urv', 'Author': 'lnvicta', 'Rating': 8, 'Movie_Title': 'John Wick 1', 'last_accessed_at': datetime.datetime(2024, 9, 27, 16, 49, 1, 570054)}\n",
            "page_content=': 1\n",
            "Review: It looks as if the filmmakers realized that the public was sick of certain movies. Most movies nowadays are full of wire work, sci-fi, etc. often topped with icing made of needless or predictable background stories that add nothing. For example the beautiful girlfriend who gives the moral speeches or the troubled teenage daughter, who aren't present here.' metadata={'source': 'john_wick_1.csv', 'row': 1, 'Review_Date': '17 January 2015', 'Review_Title': ' Story: 3 minutes; Entertainment: 101 minutes.\\n', 'Review_Url': '/review/rw3164002/?ref_=tt_urv', 'Author': 'CountJonnie', 'Rating': 7, 'Movie_Title': 'John Wick 1', 'last_accessed_at': datetime.datetime(2024, 9, 27, 16, 49, 1, 570075)}\n",
            "page_content=': 2\n",
            "Review: With the fourth installment scoring immensely at the cinemas as I'm submitting this review, and after three previous films that are apparently loved by everyone else in the world, I thought perhaps it would be time for me check out \"John Wick\".' metadata={'source': 'john_wick_1.csv', 'row': 2, 'Review_Date': '5 May 2023', 'Review_Title': \" You don't mess with another person's dog. It's as simple as that!\\n\", 'Review_Url': '/review/rw9033669/?ref_=tt_urv', 'Author': 'Coventry', 'Rating': 5, 'Movie_Title': 'John Wick 1', 'last_accessed_at': datetime.datetime(2024, 9, 27, 16, 49, 1, 570077)}\n",
            "page_content=': 3\n",
            "Review: John wick has a very simple revenge story. It can be summarized as \"Keanu gets angry and shoots bad guys\" but what makes it special? Directed by Chad Stahelski who's a stunt specialist boy does it show because the main selling point in the film are some real virtuoso action sequences, well made choreographies. Unlike today's action movies, it doesn't use quick-cuts or shaky cameras actually see what's going on.' metadata={'source': 'john_wick_1.csv', 'row': 3, 'Review_Date': '28 September 2018', 'Review_Title': ' Keanu gets pissed and shoots people in the face for 101 minutes*\\n', 'Review_Url': '/review/rw4366368/?ref_=tt_urv', 'Author': 'Kitsfi', 'Rating': 8, 'Movie_Title': 'John Wick 1', 'last_accessed_at': datetime.datetime(2024, 9, 27, 16, 49, 1, 570079)}\n",
            "page_content=': 4\n",
            "Review: Though he no longer has a taste for wet work, retired assassin and \"Boogeyman\" John Wick has suffered a personal tragedy that's left a huge void in his life. When he and his dog (really the last meaningful thing he has left) fall victim to a scummy group of Russian mobsters, he emerges from his shell with vengeance on his mind. Slow and ambiguous at first, but reveals more as it goes along, and once it kicks into gear it rarely lets up with plenty of stylized, visceral action scenes, an impressive arsenal of weaponry, plus sly direction and editing that give it the feel of a violent music video at times. Preposterously fun to watch, it just doesn't have much of a story at its disposal, not to mention all the over-the-top bloodletting and mayhem eventually becomes redundant. Savvy, indestructible Reeves looks right at home, and delivers many of his lines with a sardonic wit. **½' metadata={'source': 'john_wick_1.csv', 'row': 4, 'Review_Date': '30 July 2020', 'Review_Title': ' delivers if taken for what it is\\n', 'Review_Url': '/review/rw5952152/?ref_=tt_urv', 'Author': 'Special-K88', 'Rating': 0, 'Movie_Title': 'John Wick 1', 'last_accessed_at': datetime.datetime(2024, 9, 27, 16, 49, 1, 570080)}\n",
            "page_content=': 5\n",
            "Review: Ultra-violent first entry with lots of killings, thrills , noisy action , suspense , and crossfire . In this original John Wick (2014) , an ex-hit-man comes out of retirement to track down the gangsters that killed his dog and took everything from him . With the untimely death of his beloved wife still bitter in his mouth he seeks for vengeance . But when an arrogant Russian mob prince and hoodlums steal his car and kill his dog , they are fully aware of his lethal capacity. The Bogeyman will find himself dragged into an impossible task as every killer in the business dreams of cornering the legendary Wick who now has an enormous price on his head . In this first installment John Wick , blind with revenge, and for his salvation John will immediately unleash a carefully orchestrated maelstrom of destruction against those attempt to chase him and with a price tag on his head, as he is the target of hit men : an army of bounty-hunting killers on his trail and a murderer woman everywhere . The legendary hitman will be forced to unearth his meticulously concealed identity and to carry out a relentless vendetta . Now, only blood can quench the boogeyman's thirst for retribution . Don't Set Him Off! . John Wick isn't the Boogeyman... He's the guy you send to kill the doomed Boogeyman. Revenge is all he has left. You want peace, prepare for war . Don't Hunt What You Can't Kill. Tick Tock, Mr. Wick. Everyone Is Waiting. For John Wick . Every Action Has Consequences. This Friday, Wick is Back . Its the World Vs. Wick. Every Action Has Consequences.' metadata={'source': 'john_wick_1.csv', 'row': 5, 'Review_Date': '23 March 2023', 'Review_Title': ' Violent and gripping story with plenty of unstopped action , shootouts and breathtaking fights\\n', 'Review_Url': '/review/rw8945545/?ref_=tt_urv', 'Author': 'ma-cortes', 'Rating': 7, 'Movie_Title': 'John Wick 1', 'last_accessed_at': datetime.datetime(2024, 9, 27, 16, 49, 1, 570082)}\n",
            "page_content=': 6\n",
            "Review: John Wick is one of those few movies a year that seemed like it would be absolutely terrible, but when you finally sit down and watch it, turns out to be incredible. Not only is it one of the most fun films of the year, but it's so much different than the action films we have today. It doesn't try to be inventive or over-the-top, it just plays to it's strengths.' metadata={'source': 'john_wick_1.csv', 'row': 6, 'Review_Date': '24 February 2015', 'Review_Title': \" I'm Thinking I'm Back\\n\", 'Review_Url': '/review/rw3191151/?ref_=tt_urv', 'Author': 'ThomasDrufke', 'Rating': 8, 'Movie_Title': 'John Wick 1', 'last_accessed_at': datetime.datetime(2024, 9, 27, 16, 49, 1, 570084)}\n",
            "page_content=': 7\n",
            "Review: John Wick (2014) is the best revenge flick from Keanu Reeves of 2014 from The Matrix (1999) to John Wick (2014) another action fast paced, Entertaining slick action packed film, which kind I have never seen before. It is a very fun, straightforward action movie with an 80's sensibility. It's nice to see Keanu doing these types of roles again. It is one of my personal favorite Keanu Reeves movies. Keanu Reeves is a bad ass what a great action packed blood packed film. Movies should really learn from this on how to make a decent action film, especially with the crap we are getting today like escape plan bullet to the head and such. This film to me is the greatest action film to come out in this century. Keanu was phenomenal the action was so fast paced and exciting my jaw literally dropped as Keanu took out all the bad guys! I personally think this film is better then all Taken films combined. It was simply brilliant, it was made for 20 million dollars and I am glad it made 40 million in the US. I think this film deserved to make 100 million!' metadata={'source': 'john_wick_1.csv', 'row': 7, 'Review_Date': '19 November 2015', 'Review_Title': ' The best action revenge film of all time from 2014 so far!\\n', 'Review_Url': '/review/rw3357633/?ref_=tt_urv', 'Author': 'ivo-cobra8', 'Rating': 10, 'Movie_Title': 'John Wick 1', 'last_accessed_at': datetime.datetime(2024, 9, 27, 16, 49, 1, 570088)}\n",
            "page_content=': 8\n",
            "Review: It's hard to find anything bad to say about John Wick. The action is beautifully choreographed, the setup is surprisingly emotional for an action flick, and Keanu.... What more is there to say? If you love action or even just like it you will be in for the ride of your life.' metadata={'source': 'john_wick_1.csv', 'row': 8, 'Review_Date': '23 February 2020', 'Review_Title': ' love this movie highly recommend\\n', 'Review_Url': '/review/rw5503708/?ref_=tt_urv', 'Author': 'MrHeraclius', 'Rating': 0, 'Movie_Title': 'John Wick 1', 'last_accessed_at': datetime.datetime(2024, 9, 27, 16, 49, 1, 570090)}\n",
            "page_content=': 9\n",
            "Review: At first glance, John Wick sounds like a terrible film on paper but with the slickness of Keanu Reeves' performance as the titular character and the sheer brilliance in its action sequences, this marks the best action film of the year and one of the absolute best in the past decade. Following a brutal home invasion that leaves his beloved dog murdered by thugs from his past, John Wick vows revenge on the ones who have taken what he loves most. Like I said, on paper, this seems like a direct-to-DVD slopfest starring John Cena but as a film with Keanu Reeves as the lead, it marks the very welcomed return for Reeves to the genre. John Wick is insanely fun, violently brutal and an overall romp especially for those disappointed by The Expendables 3. John Wick is propelled by Tarantino-esque dialog mixed with the swagger of action stars from the 70s. Reeves literally emulates cool in this film and does it with such confidence, that we don't even doubt the character...even when he kills countless bad guys with extreme force in some utterly ridiculous and implausible situations. We don't doubt it for a minute. This is EXACTLY what you want out of an action film. It is briskly paced, brilliantly shot and meticulously choreographed and keeps you wanting more and more. The supporting cast filled with the likes of John Legiuzamo, Ian McShane, and Willen Dafoe also keeps this film very interesting. These guys don't play good guys, hell, John Wick by traditional standards would be a bad guy in any other film. Every character is more ruthless than the next and pushes John Wick to be more ruthless than they are, creating a very cool dynamic between the character and the plot regarding the idea of how far is too far? However, don't expect some revelation from John Wick regarding the morality of bad and evil. This film wants you entertained and does so with brute force, it never lets up, not even for a second. One scene in particular that will have your blood pumping is a showdown between thugs and Wick in a nightclub. This action sequence remains the best in the film and will have you grasping your theater seat because of the sheer intensity of it. Overall, John Wick is slick, violent fun that turns into a remarkable, surprising film that will catch you off guard. It is THAT good. I highly recommend this film to action buffs especially but I'm sure those who just like a good movie will love it as well.' metadata={'source': 'john_wick_1.csv', 'row': 9, 'Review_Date': '20 October 2014', 'Review_Title': \" The coolest action film you'll see all year\\n\", 'Review_Url': '/review/rw3107759/?ref_=tt_urv', 'Author': 'trublu215', 'Rating': 9, 'Movie_Title': 'John Wick 1', 'last_accessed_at': datetime.datetime(2024, 9, 27, 16, 49, 1, 570093)}\n",
            "page_content=': 10\n",
            "Review: Wow what a great surprise this was. I was told by a friend this was good but it's been awhile since I liked a Keanu movie so I was hesitant to try it. Retired hit-man John Wick (Keanu Reeves) loses his wife to cancer. After her funeral he receives a puppy she left him. A few days later some thugs, led by the son of a Russian gangster John used to work for, break into John's house. They beat him up, take the keys to his beloved car, and kill the puppy. They did this not knowing who he was; they just wanted the car. Now John Wick is out for revenge and the Russian gangster is trying to save his son's life by sending killers after John.' metadata={'source': 'john_wick_1.csv', 'row': 10, 'Review_Date': '22 November 2014', 'Review_Title': ' Most Excellent\\n', 'Review_Url': '/review/rw3128980/?ref_=tt_urv', 'Author': 'utgard14', 'Rating': 7, 'Movie_Title': 'John Wick 1', 'last_accessed_at': datetime.datetime(2024, 9, 27, 16, 49, 1, 570094)}\n",
            "page_content=': 11\n",
            "Review: JOHN WICK is a rare example of Hollywood getting things spot-on when it comes to creating the near-perfect action film. JOHN WICK is a relentless, pulse-pounding thriller that has plenty of similarity to the Liam Neeson classic TAKEN, albeit with a more simplistic (and also more emotionally intense) plot line. This is the kind of lean, pared-down film-making that's all about intensity and momentum. It sits well with classic international fare like POINT BLANK, SLEEPLESS NIGHT, MEA CULPA, THE MAN FROM NOWHERE, and THE RAID films.' metadata={'source': 'john_wick_1.csv', 'row': 11, 'Review_Date': '25 September 2015', 'Review_Title': ' Action as it should be\\n', 'Review_Url': '/review/rw3323198/?ref_=tt_urv', 'Author': 'Leofwine_draca', 'Rating': 8, 'Movie_Title': 'John Wick 1', 'last_accessed_at': datetime.datetime(2024, 9, 27, 16, 49, 1, 570096)}\n",
            "page_content=': 12\n",
            "Review: The only word that keeps coming back to mind when reviewing this movie is: exhilarating. The fun factor this amazing action film has is probably the highest of any movie this year. I could not stop myself from having a blast!' metadata={'source': 'john_wick_1.csv', 'row': 12, 'Review_Date': '23 January 2015', 'Review_Title': ' 8/10\\n', 'Review_Url': '/review/rw3168672/?ref_=tt_urv', 'Author': 'Giacomo_De_Bello', 'Rating': 8, 'Movie_Title': 'John Wick 1', 'last_accessed_at': datetime.datetime(2024, 9, 27, 16, 49, 1, 570098)}\n",
            "page_content=': 13\n",
            "Review: ... slaughtering a line from the superior \"Princess Bride\". It's a shame that Keanu Reeves is supposed to be one of the nicest guys to work\n",
            "with in Hollywood, because this film is a mess. We should stop asking Hollywood to come up with original ideas, because when they do, this is the result. 101 minutes of cliched action that checks all of the boxes - retired hit-man coming out of retirement, a boy and his dog, the perfect wife who is conveniently dead, stolen cars, Russian mobsters, a spoiled son who doesn't have half the restraint and judgment of dad precisely because dad spoiled him, and lots of blood.' metadata={'source': 'john_wick_1.csv', 'row': 13, 'Review_Date': '26 March 2023', 'Review_Title': ' Hello, my name is Inigo Montoya, you killed my dog, prepare to die...\\n', 'Review_Url': '/review/rw8951947/?ref_=tt_urv', 'Author': 'AlsExGal', 'Rating': 4, 'Movie_Title': 'John Wick 1', 'last_accessed_at': datetime.datetime(2024, 9, 27, 16, 49, 1, 570100)}\n",
            "page_content=': 14\n",
            "Review: Keanu Reeve is John Wick. He's a deadly and unstoppable hit-man, and it shows. \"John Wick\" is short and to the point, but so much fun. At 1 hour and 36 minutes running time, there is never a dull moment in what may be one of the best action films of the year.' metadata={'source': 'john_wick_1.csv', 'row': 14, 'Review_Date': '25 October 2014', 'Review_Title': \" Yeah I'm Thinking He's Back\\n\", 'Review_Url': '/review/rw3111220/?ref_=tt_urv', 'Author': 'Palidan400', 'Rating': 8, 'Movie_Title': 'John Wick 1', 'last_accessed_at': datetime.datetime(2024, 9, 27, 16, 49, 1, 570101)}\n",
            "page_content=': 15\n",
            "Review: Mediocre action movie.' metadata={'source': 'john_wick_1.csv', 'row': 15, 'Review_Date': '3 September 2015', 'Review_Title': ' Mediocre action movie\\n', 'Review_Url': '/review/rw3310020/?ref_=tt_urv', 'Author': 'grantss', 'Rating': 5, 'Movie_Title': 'John Wick 1', 'last_accessed_at': datetime.datetime(2024, 9, 27, 16, 49, 1, 570103)}\n",
            "page_content=': 16\n",
            "Review: You could have written this on the back of a napkin... 'Guy's dog is murdered; guy goes mental, efficiently killing those responsible. The End'. There's no colour to the story, whatsoever; there are only garish colours in the nightclub scenes. If all you need to think something is cool is to see people getting beaten up or shot, then join the Army...' metadata={'source': 'john_wick_1.csv', 'row': 16, 'Review_Date': '10 February 2016', 'Review_Title': ' Got on my Wick...\\n', 'Review_Url': '/review/rw3412495/?ref_=tt_urv', 'Author': 'Howlin Wolf', 'Rating': 4, 'Movie_Title': 'John Wick 1', 'last_accessed_at': datetime.datetime(2024, 9, 27, 16, 49, 1, 570105)}\n",
            "page_content=': 17\n",
            "Review: There are actually quite a handful reasons why \"John Wick\" could have become a failure. The two directors have never made a film before and almost exclusively worked in the stunt department so far. The writer is not exactly experienced either. Lead actor Keanu Reeves usually scores more through boyish charm than through realistic portrayal of gritty badass characters. And the genre of crime action thrillers rarely delivers in terms of real significance. Still it became a very good film. The main reason for that is probably that it does not attempt to be anything of great cinematic value, does not try to teach groundbreaking stories on moral, loyalty or betrayal. Instead, Derek Kolstad's script goes for a gutsy revenge thriller that is not even hurt by its occasional predictability.' metadata={'source': 'john_wick_1.csv', 'row': 17, 'Review_Date': '27 February 2016', 'Review_Title': ' The man who kills the Boogeyman\\n', 'Review_Url': '/review/rw3422991/?ref_=tt_urv', 'Author': 'Horst_In_Translation', 'Rating': 8, 'Movie_Title': 'John Wick 1', 'last_accessed_at': datetime.datetime(2024, 9, 27, 16, 49, 1, 570106)}\n",
            "page_content=': 18\n",
            "Review: When the story begins, John (Keanu Reeves) has just lost his wife. After her death, he's a bit lost but tries to rebuild his life. One day, he's getting gas and a young Russian-American punk notices Wick's classic car...and tries to buy it off him. But Wick isn't interested and declines. Soon, the punk arrives at Wick's home with some goons where they surprise him--beating him senseless, destroying his stuff, killing his dog and stealing his car! This is when you then learn that Wick is a super-assassin....and the punk chose the wrong guy to attack. The jerk's father is a big-time Russian mobster....and it's a contest to see who will win...the mobster and his gang or Wick on his own. Considering there are (so far) two MORE John Wick films, it pretty much seems certain who will win this battle.' metadata={'source': 'john_wick_1.csv', 'row': 18, 'Review_Date': '10 September 2019', 'Review_Title': ' Probably NOT a film to watch with your kids or mother.\\n', 'Review_Url': '/review/rw5112990/?ref_=tt_urv', 'Author': 'planktonrules', 'Rating': 7, 'Movie_Title': 'John Wick 1', 'last_accessed_at': datetime.datetime(2024, 9, 27, 16, 49, 1, 570108)}\n",
            "page_content=': 19\n",
            "Review: I really don't understand the love that \"John Wick\" receives. It's just kind of a generic action thriller to me. No different than a \"Bourne\" or \"Taken\" movie. It gets a slight bump for me in a rating of 6 instead of 5 because I did think that the cinematography was really good and also the fight choreography was top notch. I can definitely see the influence of martial arts films on this.' metadata={'source': 'john_wick_1.csv', 'row': 19, 'Review_Date': '14 April 2023', 'Review_Title': \" I Don't Get It\\n\", 'Review_Url': '/review/rw8991670/?ref_=tt_urv', 'Author': 'xiaoli7377', 'Rating': 6, 'Movie_Title': 'John Wick 1', 'last_accessed_at': datetime.datetime(2024, 9, 27, 16, 49, 1, 570110)}\n",
            "page_content=': 20\n",
            "Review: John Wick is something special. It takes as much time setting up elaborate action sequences as it does the world with which it all takes place in. And what a world it is. It reminds me of Millers Crossing and it is cooler than any other recent attempt at noir. We are shown a criminal underworld where, if you are connected, many powerful people know who you are and show you respect. John Wick was connected but he got out. He is the rare killer who has found peace, and he is grateful for that peace. Some young kids steal that from him and he does what he does best, he wages a one man war against the Russian Mafia. It might sound like the film takes quite a leap but it all makes sense. The motives of John and the people who get in the way of his bullets are all very clear, even if it does come across as rather simple. That's the plot at it's most basic. Then there's the action. The film is directed by Reeve's stuntman from The Matrix, so this guy knows action. There are sequences that flow so smoothly it puts other action films and their quick cuts to shame. Keaunu moves so fluidly throughout the film and comes across as such a natural that the only disappointment is that we have not seen him like this before. Along the way are plenty of character actors, fans of The Matrix and The Wire will recognize a few people then there are more obvious ones like Ian McShane and Willem Dafoe. Everyone seems to be having a good time. That is another plus for this movie. It get's dark at times but overall it is quite fun, not very chipper, but fun. I cannot recommend this movie enough. I believe it is a must see for action fans and for anyone looking for something a bit different from the usual fare.' metadata={'source': 'john_wick_1.csv', 'row': 20, 'Review_Date': '22 October 2014', 'Review_Title': ' Smoothest action film to come around in a long time\\n', 'Review_Url': '/review/rw3109271/?ref_=tt_urv', 'Author': 'IceSkateUpHill', 'Rating': 10, 'Movie_Title': 'John Wick 1', 'last_accessed_at': datetime.datetime(2024, 9, 27, 16, 49, 1, 570112)}\n",
            "page_content=': 21\n",
            "Review: John Wick is an action film with video game type shooting scenes but a somewhat barmy plotting. Keanu Reeves makes it watchable despite the script.' metadata={'source': 'john_wick_1.csv', 'row': 21, 'Review_Date': '18 April 2015', 'Review_Title': ' Hit-man and his dog\\n', 'Review_Url': '/review/rw3222483/?ref_=tt_urv', 'Author': 'Prismark10', 'Rating': 5, 'Movie_Title': 'John Wick 1', 'last_accessed_at': datetime.datetime(2024, 9, 27, 16, 49, 1, 570113)}\n",
            "page_content=': 22\n",
            "Review: All the below are non-creative copying of past movies (done many times before): 1. Opening scene - alarm clock going off. 2. Coffee brewing. 3. Casket being lowered; raining for effect; long shot of cemetery showing stranger watching. 4. Afterwards, solemn wake party. 5. Mystery package at door. From? Of course. 6. Bad guys are (Guess what nationality?) $1000 if you have no idea. And, of course, are as stereotypic as cut-out doll figures. 7. Older hot cars and lots of squealing tires, burning rubber (or synthetic equivalent). You would think Reeves character would be past that 17 year old's infatuation. 8. Master killer still has an arsenal hidden away, why? Anticipated this precise series of events unfolding many years earlier. Or, nostalgia. 9. Reeves is covered in tats, of course, to show us toughness. Russian iconic tats no less - oops! 10. Dozen (cheaper that way) bad guys need some skill training because they're slow, dumb and can't seem to shoot at a target a few feet away and always walk around corners without looking first. 11. Been done before \"cleaning crew\" just a call away to dispose of waste animal tissue (human of course). They always look the same in these movies. 12. Usual cheap scene filler, and getting really tedious, helicopter shot of city and car traveling on road below (even did a several times). 13. Background music the usual rock/blues/alter/jazz sound. 14. Barely clothed chicks tossed in for the male viewer and one to be bad. 15. Same old club scenes with strobes. 16. Usual wharf/dock driving and shooting scenes. 17. Now for the fun part and a new record surpassing the past record of 65 kills by one individual in a movie (can't remember the movie from a couple of years ago but it had that Detroit blighted semi-deserted projects, public housing/towers backdrop with this guy going through the floors shooting all the druggies). The new record for a movie is (drum roll) 73 by Reeves and 8 by others = 81 (maybe more, hard to keep track at times).' metadata={'source': 'john_wick_1.csv', 'row': 22, 'Review_Date': '12 February 2015', 'Review_Title': ' Storytelling is Good Copying\\n', 'Review_Url': '/review/rw3182143/?ref_=tt_urv', 'Author': 'westsideschl', 'Rating': 2, 'Movie_Title': 'John Wick 1', 'last_accessed_at': datetime.datetime(2024, 9, 27, 16, 49, 1, 570115)}\n",
            "page_content=': 23\n",
            "Review: John Wick (2014)' metadata={'source': 'john_wick_1.csv', 'row': 23, 'Review_Date': '28 September 2015', 'Review_Title': ' High Energy Action Fun\\n', 'Review_Url': '/review/rw3325041/?ref_=tt_urv', 'Author': 'Michael_Elliott', 'Rating': 0, 'Movie_Title': 'John Wick 1', 'last_accessed_at': datetime.datetime(2024, 9, 27, 16, 49, 1, 570137)}\n",
            "page_content=': 24\n",
            "Review: Predictable, juvenile revenge movie for 8 year olds. Reeves mumbles his way through 2 hours with Matrix like fight scenes that defy believability. Mindless, childish crap.' metadata={'source': 'john_wick_1.csv', 'row': 24, 'Review_Date': '15 April 2018', 'Review_Title': ' Garbage\\n', 'Review_Url': '/review/rw4129747/?ref_=tt_urv', 'Author': 'donlessnau-591-637730', 'Rating': 1, 'Movie_Title': 'John Wick 1', 'last_accessed_at': datetime.datetime(2024, 9, 27, 16, 49, 1, 570144)}\n",
            "page_content=': 0\n",
            "Review: No doubt about it, \"John Wick: Chapter 2\" is a slick action thriller, but man, oh man, how can any one person absorb that kind of punishment? John (Keanu Reeves) gets shot, stabbed and hit by cars multiple times and postures a limp now and then to indicate he might have gotten just a little bit hurt. Besides that, he almost never makes a wrong move when hunted by dozens of assassins all at the same time. Okay, I get it, Reeves is the star of the picture and has to come out on top, but I'd like a little more credibility put into these kinds of stories. But I guess that's the whole point, suspend your disbelief for a couple of hours and just go with all of the over the top action the film makers can put together.' metadata={'source': 'john_wick_2.csv', 'row': 0, 'Review_Date': '14 September 2018', 'Review_Title': ' \"No one gets out and comes back without repercussions.\"\\n', 'Review_Url': '/review/rw4338449/?ref_=tt_urv', 'Author': 'classicsoncall', 'Rating': 7, 'Movie_Title': 'John Wick 2', 'last_accessed_at': datetime.datetime(2024, 9, 28, 16, 49, 1, 570839)}\n",
            "page_content=': 1\n",
            "Review: I mean. This literally is what is says on the tin. It's jam packed with action and I love it.' metadata={'source': 'john_wick_2.csv', 'row': 1, 'Review_Date': '28 November 2020', 'Review_Title': \" It's just a great action film\\n\", 'Review_Url': '/review/rw6316364/?ref_=tt_urv', 'Author': 'danielmanson', 'Rating': 8, 'Movie_Title': 'John Wick 2', 'last_accessed_at': datetime.datetime(2024, 9, 28, 16, 49, 1, 570846)}\n",
            "page_content=': 2\n",
            "Review: A film with more head-shots than words spoken, John Wick: Chapter 2 is just about the most violent film I've seen in quite some time. But it knows exactly what it wants to do, and succeeds immensely.' metadata={'source': 'john_wick_2.csv', 'row': 2, 'Review_Date': '14 February 2017', 'Review_Title': ' Professional Courtesy\\n', 'Review_Url': '/review/rw3640053/?ref_=tt_urv', 'Author': 'ThomasDrufke', 'Rating': 8, 'Movie_Title': 'John Wick 2', 'last_accessed_at': datetime.datetime(2024, 9, 28, 16, 49, 1, 570848)}\n",
            "page_content=': 3\n",
            "Review: Well, I committed to watching the first three \"John Wick\" movies consecutively, and in case I totally worship them - like apparently the rest of the world does - I would hurry myself to the theater and watch the fourth installment on the big screen. After the first one already, I knew this wasn't going to be my thing. Not that \"John Wick\" is a bad film, it's just a very monotonous 'shoot-em-all-up' actioner that rapidly makes you go like \"yeah, whatever\".' metadata={'source': 'john_wick_2.csv', 'row': 3, 'Review_Date': '5 May 2023', 'Review_Title': ' Stab, kick, shoot, repeat. Stab, kick, shoot, repeat. Stab, kick shoot, repeat.\\n', 'Review_Url': '/review/rw9034779/?ref_=tt_urv', 'Author': 'Coventry', 'Rating': 5, 'Movie_Title': 'John Wick 2', 'last_accessed_at': datetime.datetime(2024, 9, 28, 16, 49, 1, 570850)}\n",
            "page_content=': 4\n",
            "Review: \"John Wick: Chapter 2\" (2017 release; 122 min.) continues the 'adventures' of former (?) hit man John Wick. As the movie opens, we are immediately thrown in the middle of a car vs. bike chase, and next thing we know, we find our man retrieving his beloved Mustang from a chop shop in NYC, but not without cars flying about, and dozens of dead or wounded bodies. And that's all in the pre-opening credits! As the story unfolds, Wick, who wants \"out, is nevertheless forced back \"in\" when an Italian baddie calls in a favor and Wick has no choice but to accept. To tell you more of the plot would spoil your viewing experience, you'll just have to see for yourself how it all plays out.' metadata={'source': 'john_wick_2.csv', 'row': 4, 'Review_Date': '13 February 2017', 'Review_Title': ' The rare sequel that is better than the original movie\\n', 'Review_Url': '/review/rw3639244/?ref_=tt_urv', 'Author': 'paul-allaer', 'Rating': 8, 'Movie_Title': 'John Wick 2', 'last_accessed_at': datetime.datetime(2024, 9, 28, 16, 49, 1, 570852)}\n",
            "page_content=': 5\n",
            "Review: Iosef's uncle still has John Wick's car. Wick comes after it and the uncle accepts his offer of peace. He hopes to return to his peaceful retirement but crime lord Santino D'Antonio calls in his Marker. He faces deadly assassins, numerous killers, and countless thugs as Santino uses him to gain power even offering a $7 million contract.' metadata={'source': 'john_wick_2.csv', 'row': 5, 'Review_Date': '7 October 2017', 'Review_Title': ' more Gun Fu\\n', 'Review_Url': '/review/rw3825224/?ref_=tt_urv', 'Author': 'SnoopyStyle', 'Rating': 6, 'Movie_Title': 'John Wick 2', 'last_accessed_at': datetime.datetime(2024, 9, 28, 16, 49, 1, 570854)}\n",
            "page_content=': 6\n",
            "Review: In 2014, a Keanu Reeves revenge thriller John Wick became a surprise hit. I originally skipped out on the film as I felt that the trailers only showed an assassin story that I felt I've seen before. As far as I'm concerned, I made a big mistake. Before seeing the sequel, I felt it was important to watch the first one. I rented it on Amazon Prime and I was shock by what I saw; a dark, stylish, and fun action movie that is doing it's own thing. Though I've seen plenty stories about revenge (The Count of Monte Cristo and Moby Dick being the prime examples), I can't recall one over someone's pet being murdered.' metadata={'source': 'john_wick_2.csv', 'row': 6, 'Review_Date': '14 February 2017', 'Review_Title': \" John Wick: Chapter 2 continues it's faced paced, neo-noir story of our assassin\\n\", 'Review_Url': '/review/rw3639868/?ref_=tt_urv', 'Author': 'RforFilm', 'Rating': 8, 'Movie_Title': 'John Wick 2', 'last_accessed_at': datetime.datetime(2024, 9, 28, 16, 49, 1, 570855)}\n",
            "page_content=': 7\n",
            "Review: This review of John Wick: Chapter 2 is spoiler free' metadata={'source': 'john_wick_2.csv', 'row': 7, 'Review_Date': '17 February 2017', 'Review_Title': \" He's Bloody Back\\n\", 'Review_Url': '/review/rw3641212/?ref_=tt_urv', 'Author': 'coreyjdenford', 'Rating': 8, 'Movie_Title': 'John Wick 2', 'last_accessed_at': datetime.datetime(2024, 9, 28, 16, 49, 1, 570857)}\n",
            "page_content=': 8\n",
            "Review: In this 2nd installment of John Wick, the stylish visual and hard core action returns twice the level of the first film. So prepare for another suspenseful and cliffhanging sequences flow from this action movie when you watch this. The story goes deeper and the action scenes were incredibly entertaining! The revenge theme was still part of the movie's plot but this time the focus is the personal backstab of Wick. Keanu Reeves delivers again a notable performance as a titular character. This film is what a sequel movie should be - justifying the connection to the predecessor movie that made it successful by expanding its story and maintaining the elements that made it a superb film. The ending of this film opened the possibility of many more franchise of this movie.' metadata={'source': 'john_wick_2.csv', 'row': 8, 'Review_Date': '23 February 2020', 'Review_Title': ' Great\\n', 'Review_Url': '/review/rw5503709/?ref_=tt_urv', 'Author': 'MrHeraclius', 'Rating': 0, 'Movie_Title': 'John Wick 2', 'last_accessed_at': datetime.datetime(2024, 9, 28, 16, 49, 1, 570859)}\n",
            "page_content=': 9\n",
            "Review: \"John Wick: Chapter 2\" is an American movie from this year (2017). Experienced visual effects artist Stahelski and Kolstad returned from the very first Wick film to work on the script/direction here too, so the premise with regard to people working behind the camera is there. And in front of the camera we see familiar faces again, people that survived the film, like most of all Keanu Reeves playing the central character. This is a really long film at over 2 hours and at this runtime, it is considerably longer than the first. And there is a lot other stuff different compared to the original. Most has to do with the fun component. I think the first film was a great fun watch from start to finish while offering emotion nonetheless and also delivering in the crime and drama genres. And action too, but I don't care too much about that. This genre is also basically the only one where this new movie delivers as the first 30 minutes are truly packed with action. It gets less afterward, but there is no denying that it was still all about the action and nothing else.' metadata={'source': 'john_wick_2.csv', 'row': 9, 'Review_Date': '22 July 2017', 'Review_Title': ' A disappointing sequel for the most part\\n', 'Review_Url': '/review/rw3760991/?ref_=tt_urv', 'Author': 'Horst_In_Translation', 'Rating': 4, 'Movie_Title': 'John Wick 2', 'last_accessed_at': datetime.datetime(2024, 9, 28, 16, 49, 1, 570861)}\n",
            "page_content=': 10\n",
            "Review: The first John Wick film took me by surprise; it was a cartoonish action film that was surprisingly brutal in its content, cruel in its delivery, and had a real punch to it. All of it existed inside a world that convinced in its own logic, even if it was clearly fantasy. John Wick 2 doesn't have the ability to sneak up on me unannounced, which does work against it, but this is not what hurts it the most.' metadata={'source': 'john_wick_2.csv', 'row': 10, 'Review_Date': '1 July 2017', 'Review_Title': \" Slick, but I was detached in a way I wasn't in the first film\\n\", 'Review_Url': '/review/rw3743472/?ref_=tt_urv', 'Author': 'bob the moo', 'Rating': 0, 'Movie_Title': 'John Wick 2', 'last_accessed_at': datetime.datetime(2024, 9, 28, 16, 49, 1, 570862)}\n",
            "page_content=': 11\n",
            "Review: Don't believe the hype. John Wick: Chapter 2 is not as nearly as good as almost everyone is portraying it to be. It's a generic movie with a dumb story line. Action is very repetitive - I got full-fed with it after seeing first two action scenes.' metadata={'source': 'john_wick_2.csv', 'row': 11, 'Review_Date': '25 February 2017', 'Review_Title': ' Generic, repetitive and forgettable\\n', 'Review_Url': '/review/rw3647634/?ref_=tt_urv', 'Author': 'DVR_Brale', 'Rating': 5, 'Movie_Title': 'John Wick 2', 'last_accessed_at': datetime.datetime(2024, 9, 28, 16, 49, 1, 570864)}\n",
            "page_content=': 12\n",
            "Review: If there's an equivalent of classical orchestra for untamed unapologetically brutal carnage, there's no doubt it'd be John Wick. Dancing through hail of bullets, horde of assassins straight from video game, oozing noir style from each drop of blood, John Wick: Chapter 2 is nothing short of an artistic spectacle.' metadata={'source': 'john_wick_2.csv', 'row': 12, 'Review_Date': '8 February 2017', 'Review_Title': ' Love letter for action genre written by bold bloody hallmark, and a pencil.\\n', 'Review_Url': '/review/rw3635439/?ref_=tt_urv', 'Author': 'quincytheodore', 'Rating': 9, 'Movie_Title': 'John Wick 2', 'last_accessed_at': datetime.datetime(2024, 9, 28, 16, 49, 1, 570865)}\n",
            "page_content=': 13\n",
            "Review: Keanu Reeves is reunited with his Matrix master, Laurence Fishburne in this sequel. It was nice to see them as allies.' metadata={'source': 'john_wick_2.csv', 'row': 13, 'Review_Date': '25 November 2021', 'Review_Title': ' Entertaining Sequel\\n', 'Review_Url': '/review/rw7582036/?ref_=tt_urv', 'Author': 'Johnny_West', 'Rating': 10, 'Movie_Title': 'John Wick 2', 'last_accessed_at': datetime.datetime(2024, 9, 28, 16, 49, 1, 570867)}\n",
            "page_content=': 14\n",
            "Review: I absolutely love action movies, like Rambo, Alien, and taken. But this is a absolute disaster of an action movie...' metadata={'source': 'john_wick_2.csv', 'row': 14, 'Review_Date': '25 May 2019', 'Review_Title': ' No story, No plot, but a whole lot of boring gun scenes!\\n', 'Review_Url': '/review/rw4886603/?ref_=tt_urv', 'Author': 'skullhead739', 'Rating': 3, 'Movie_Title': 'John Wick 2', 'last_accessed_at': datetime.datetime(2024, 9, 28, 16, 49, 1, 570869)}\n",
            "page_content=': 15\n",
            "Review: \"I keel you, I keel all of you. Kill, kill, and more kill.\" And throw in a few completely pointless and stupid car chases and lots of explosions for the mouth-breathers and you have a formula for a successful action movie. We should make violence at least as much of a taboo in film ratings as sex.' metadata={'source': 'john_wick_2.csv', 'row': 15, 'Review_Date': '19 February 2017', 'Review_Title': ' Violence Without Consequences = Childish Nonsense\\n', 'Review_Url': '/review/rw3642330/?ref_=tt_urv', 'Author': 'leftbanker-1', 'Rating': 1, 'Movie_Title': 'John Wick 2', 'last_accessed_at': datetime.datetime(2024, 9, 28, 16, 49, 1, 570870)}\n",
            "page_content=': 16\n",
            "Review: John Wick Chapter 2 pits Keanu Reeves' titular character against the mean and nefarious of the criminal underworld. Once again, Reeves proves that he is a force to be reckoned with in this ridiculous, over-the-top sequel that is every bit as fun as the original. These types of films are rarely known for their artistic value but John Wick: Chapter 2 sets the bar pretty high, not only in its action, but in it's set design and camera work. This is pure escapist entertainment and couldn't have come at a better time. Those wanting to take a break from watching the Oscar nominees, this film is exactly what you're looking for.' metadata={'source': 'john_wick_2.csv', 'row': 16, 'Review_Date': '9 February 2017', 'Review_Title': ' Kick-ass, entertaining and relentless throughout. This is what every sequel should aspire to be.\\n', 'Review_Url': '/review/rw3636884/?ref_=tt_urv', 'Author': 'trublu215', 'Rating': 5, 'Movie_Title': 'John Wick 2', 'last_accessed_at': datetime.datetime(2024, 9, 28, 16, 49, 1, 570872)}\n",
            "page_content=': 17\n",
            "Review: Picking up where the first movie left off, John Wick still wants his car back. Also, he now discovers that there is a bounty on his head. Rejoining his former profession, he heads to Rome to complete an assassination assignment.' metadata={'source': 'john_wick_2.csv', 'row': 17, 'Review_Date': '18 March 2018', 'Review_Title': ' Even worse than the first movie\\n', 'Review_Url': '/review/rw4095490/?ref_=tt_urv', 'Author': 'grantss', 'Rating': 2, 'Movie_Title': 'John Wick 2', 'last_accessed_at': datetime.datetime(2024, 9, 28, 16, 49, 1, 570873)}\n",
            "page_content=': 18\n",
            "Review: And all of this equals boredom. 2 hours of the same thing over and over. A movie for young teens who judge movies as they do video games; the more kills, the better. After the 30th guy got his head blown off, it became totally boring to me. John Wick gets hit by a car 6 times, gets thrown down a flight of stairs 10 times, gets punched and kicked 500 times...and yet he keeps fighting. He fights 30 guys at the same time, with a gun or without, and he always wins. There is zero plot, zero character development, zero drama...it's all mindless action. And repetitive. Fistfights, guns, and cars. Nothing else. Nothing creative. Well they tried to be creative a couple times...like wasting 15 minutes with a woman doing an elaborate yet gross suicide...and for no reason other than to slap something 'original' up on the screen. It was completely pointless. How this movie is rated highly is beyond me. Like I say, it must be young teens who judge movies on number of kills. PS - I'm not exaggerating. The main bad guy simply puts a message into his phone, and within 3 minutes, literally the entire city is out to kill John Wick. So he has to fight 30 guys at a time, killing 500 guys within 20 minutes or so. Mind-numbingly stupid and boring.' metadata={'source': 'john_wick_2.csv', 'row': 18, 'Review_Date': '28 February 2017', 'Review_Title': ' Mindless repetitive action...no story, no drama, he can kill 100 guys at the same time...\\n', 'Review_Url': '/review/rw3650338/?ref_=tt_urv', 'Author': 'jmichael3387', 'Rating': 2, 'Movie_Title': 'John Wick 2', 'last_accessed_at': datetime.datetime(2024, 9, 28, 16, 49, 1, 570875)}\n",
            "page_content=': 19\n",
            "Review: If you've seen the first John Wick movie, you know that Keanu Reeves is John Wick, a retired assassin who comes out of retirement when someone kills his dog. In this one, which begins a week later, matters are still reverberating, and some one has stolen his car, which calls for a lot of carnage. That settled, John is called on to pay off an old debt by helping Ian McShane take over the Assassin's Guild by flying around to Italy, Canada and Manhattan and killing what seems like hundreds of assassins.' metadata={'source': 'john_wick_2.csv', 'row': 19, 'Review_Date': '29 November 2020', 'Review_Title': ' John Wick Kills A Lot Of People\\n', 'Review_Url': '/review/rw6320115/?ref_=tt_urv', 'Author': 'boblipton', 'Rating': 5, 'Movie_Title': 'John Wick 2', 'last_accessed_at': datetime.datetime(2024, 9, 28, 16, 49, 1, 570876)}\n",
            "page_content=': 20\n",
            "Review: After resolving his issues with the Russian mafia, John Wick (Keanu Reeves) returns home. But soon the mobster Santino D'Antonio (Riccardo Scamarcio) visits him to show Wick's marker and tells that he needs to help. John Wicks refuses since he is retired and Santino blows-up his house. John Wick meets the owner of the Continental hotel in New York City, Winston (Ian McShane), and he tells that Wick cannot violate the Mafia rules and shall honor the marker. Santino asks John Wick to kill his sister Gianna D'Antonio (Claudia Gerini) in Rome so that he can sit on the High Table of the criminal organizations. When John Wicks accomplishes his assignment, Santino puts a seven-million dollar contract on him attracting professional killers from everywhere. But Wick promises to kill Santino that is not protected by his marker anymore.' metadata={'source': 'john_wick_2.csv', 'row': 20, 'Review_Date': '28 May 2017', 'Review_Title': ' A New Franchise is Born\\n', 'Review_Url': '/review/rw3718180/?ref_=tt_urv', 'Author': 'claudio_carvalho', 'Rating': 8, 'Movie_Title': 'John Wick 2', 'last_accessed_at': datetime.datetime(2024, 9, 28, 16, 49, 1, 570878)}\n",
            "page_content=': 21\n",
            "Review: Wow, this is one of the best action movies that I have seen in quite some time. It is really what I was hoping for in a good old fashion action movie that was done entirely on hand to hand combat and gun shootings. This is a wonderful kick-ass movie where the killings were done so brutally with lots of bloody scenes. It also kind of remind me of the various one man army movies in the 80s played by Sylvester Stallone or Arnold Schwarzenegger. If you have seen John Wick the original (which I hope you have seen it before you see this one), then you will be amazed with this sequel. It was bloodier, more fighting, more assassins trying to kill John and longer running time. What I can say is this is an even better version than the original movie. Although in term of story, there is a bit of a more complexity in the sequel as opposed to the simplicity of the original movie.' metadata={'source': 'john_wick_2.csv', 'row': 21, 'Review_Date': '8 February 2017', 'Review_Title': ' Great Action Movie!\\n', 'Review_Url': '/review/rw3635784/?ref_=tt_urv', 'Author': 'MichaelNontonMulu', 'Rating': 9, 'Movie_Title': 'John Wick 2', 'last_accessed_at': datetime.datetime(2024, 9, 28, 16, 49, 1, 570879)}\n",
            "page_content=': 22\n",
            "Review: John Wick is one of my favourite recent years action movie and the second one pick up right where the first one left. The action is sharp, well filmed, no bad shaky cams and jump cuts like a certain bad action movie i saw recently. Its so refreshing to see everything and admire the practical stunt work.' metadata={'source': 'john_wick_2.csv', 'row': 22, 'Review_Date': '12 February 2017', 'Review_Title': ' This is how you film an action movie !\\n', 'Review_Url': '/review/rw3638970/?ref_=tt_urv', 'Author': 'destroyerwod', 'Rating': 9, 'Movie_Title': 'John Wick 2', 'last_accessed_at': datetime.datetime(2024, 9, 28, 16, 49, 1, 570881)}\n",
            "page_content=': 23\n",
            "Review: I love me a bit of the old ultra-violence, but I also like a plot of some kind to go with all of the gunfire, blood and broken bones. Failing that, the gory mayhem had better be something special - something that breaks new ground in terms of action cinema. John Wick Chapter 2 is relentlessly violent, Keanu Reeves' eponymous hitman laying waste to almost everyone he crosses paths with, once again finishing most victims with a shot to the head, but the action is simply more of the same, director Chad Stahelski bringing nothing new to the table.' metadata={'source': 'john_wick_2.csv', 'row': 23, 'Review_Date': '4 February 2020', 'Review_Title': ' Keanu kills everyone. Again.\\n', 'Review_Url': '/review/rw5459627/?ref_=tt_urv', 'Author': 'BA_Harrison', 'Rating': 5, 'Movie_Title': 'John Wick 2', 'last_accessed_at': datetime.datetime(2024, 9, 28, 16, 49, 1, 570882)}\n",
            "page_content=': 24\n",
            "Review: No electric boogaloo here, This is one of the best Sequels ever made!' metadata={'source': 'john_wick_2.csv', 'row': 24, 'Review_Date': '10 February 2017', 'Review_Title': \" Man! I didn't think Chapter 2 could out do the original, but man! This was Fantastic!\\n\", 'Review_Url': '/review/rw3637449/?ref_=tt_urv', 'Author': 'subxerogravity', 'Rating': 9, 'Movie_Title': 'John Wick 2', 'last_accessed_at': datetime.datetime(2024, 9, 28, 16, 49, 1, 570884)}\n",
            "page_content=': 0\n",
            "Review: It is 5 years since the first John Wick film - one that took me by surprise by how silly it was as a narrative, but yet how well it delivered action sequences. The second film was only 2 years ago, and it raised the stakes and went from a man seeking revenge on another group of people, into one where the world was filled with assassins, popping up from everywhere all the time. I remember ending that film feeling like it had gone too far but that the third would probably do more of that. True enough, Parabellum (\"prepare for war\") sees the whole world filled with assassins, and a huge administrative system around them - but yet the whole lot of them can't seem to cause John Wick too much trouble. As with the first film, this expands the world more than it can bear, and although it looks cool at times, the world makes no sense whatsoever and it hurts the film the more it relies on it (which it does as it expands it).' metadata={'source': 'john_wick_3.csv', 'row': 0, 'Review_Date': '22 September 2019', 'Review_Title': ' Enjoyably choreographed, but the lack of consequence combined with the global scale robs it of urgency and means it outstays its welcome a bit\\n', 'Review_Url': '/review/rw5136960/?ref_=tt_urv', 'Author': 'bob the moo', 'Rating': 0, 'Movie_Title': 'John Wick 3', 'last_accessed_at': datetime.datetime(2024, 9, 29, 16, 49, 1, 571436)}\n",
            "page_content=': 1\n",
            "Review: I'm a fan of the John Wick films. The action sequences are of the highest order and there is quite a bit that feels unique in each action scene. By half way through JW3I started to long for a plot line or a human relationship. There needs to be more to a movie than just fighting.' metadata={'source': 'john_wick_3.csv', 'row': 1, 'Review_Date': '21 October 2021', 'Review_Title': ' Starting to test the friendship\\n', 'Review_Url': '/review/rw7466057/?ref_=tt_urv', 'Author': 'benxrichardson', 'Rating': 6, 'Movie_Title': 'John Wick 3', 'last_accessed_at': datetime.datetime(2024, 9, 29, 16, 49, 1, 571440)}\n",
            "page_content=': 2\n",
            "Review: Undeniably action packed, but my goodness is it pointless! The whole movie is Keanu reeves wandering around New York (then Casablanca, then New York again) while killing people. I enjoy a mindless action thriller, but this is positively brain dead.' metadata={'source': 'john_wick_3.csv', 'row': 2, 'Review_Date': '22 December 2019', 'Review_Title': ' JW3 is about 40 min too long\\n', 'Review_Url': '/review/rw5342497/?ref_=tt_urv', 'Author': 'Calicodreamin', 'Rating': 4, 'Movie_Title': 'John Wick 3', 'last_accessed_at': datetime.datetime(2024, 9, 29, 16, 49, 1, 571442)}\n",
            "page_content=': 3\n",
            "Review: This franchise has obviously become a parody. It seems that a very high number of the World's population serve the High Table. They're everywhere, behind every corner, but they cannot kill one single man, even if they stab, shoot, throw him from the hotel roof or hit him with a car at full speed. And the Head of this \"powerful organization\" lives among camels in an African desert ... There are some entertaining moments, however the numerous fighting scenes become dull after a while.' metadata={'source': 'john_wick_3.csv', 'row': 3, 'Review_Date': '27 May 2019', 'Review_Title': ' the fighting scenes get dull after a while\\n', 'Review_Url': '/review/rw4892511/?ref_=tt_urv', 'Author': 'dannton', 'Rating': 6, 'Movie_Title': 'John Wick 3', 'last_accessed_at': datetime.datetime(2024, 9, 29, 16, 49, 1, 571443)}\n",
            "page_content=': 4\n",
            "Review: Hollow plot interspersed with the most boring fighting scenes ever. Dozens and dozens of inept villains, who are there just to be shoot. Gone are the fresh sequences of the first movie.\n",
            "Super-uninteresting main villain. Very poor climax. Twists, just for the sake of twists. It seems like there's nobody out there capable of writing a movie anymore.' metadata={'source': 'john_wick_3.csv', 'row': 4, 'Review_Date': '7 July 2019', 'Review_Title': ' Brainless\\n', 'Review_Url': '/review/rw4982369/?ref_=tt_urv', 'Author': 'mgd_m', 'Rating': 2, 'Movie_Title': 'John Wick 3', 'last_accessed_at': datetime.datetime(2024, 9, 29, 16, 49, 1, 571445)}\n",
            "page_content=': 5\n",
            "Review: The first John Wick film was special because it broke a mold of sorts. It went against certain action film conventions - the hero was not a muscle bound hulk like a Schwarzenegger or Stallone, the action was super fast paced, the plot was basic and straighforward, but introduced some unique elements, and there was something a bit unique and stylish about the film. John Wick was cool.' metadata={'source': 'john_wick_3.csv', 'row': 5, 'Review_Date': '17 July 2019', 'Review_Title': ' The magic is gone\\n', 'Review_Url': '/review/rw4999970/?ref_=tt_urv', 'Author': 'soundoflight', 'Rating': 5, 'Movie_Title': 'John Wick 3', 'last_accessed_at': datetime.datetime(2024, 9, 29, 16, 49, 1, 571446)}\n",
            "page_content=': 6\n",
            "Review: Assassin John Wick is referred to as Baba Yaga in this third chapter, suggesting that he is, in fact, a supernatural being; his ability to evade death, appear and disappear like a ninja from a Godfrey Ho film, and move with lightning fast reflexes despite being in his mid-fifties confirms this fact, in my opinion. Unfortunately, Wick's invincibility means that the many action scenes in Parabellum are largely devoid of excitement, the only outcome being that Wick is still alive and all of his enemies are dead.' metadata={'source': 'john_wick_3.csv', 'row': 6, 'Review_Date': '7 February 2020', 'Review_Title': ' More of the same. Yawn!\\n', 'Review_Url': '/review/rw5466367/?ref_=tt_urv', 'Author': 'BA_Harrison', 'Rating': 4, 'Movie_Title': 'John Wick 3', 'last_accessed_at': datetime.datetime(2024, 9, 29, 16, 49, 1, 571448)}\n",
            "page_content=': 7\n",
            "Review: About mid-way through the film, after about 100 people had been shot, stabbed, strangled, or otherwise dispatched I started to yawn. Seriously! Is this a film or a video game? On the positive side, it was better than Chapter 2 which is equivalent to being healthier than a leper. Chapter 3 is already advertising Chapter 4 and we can only hope that we'll have stronger characters and a better plot.' metadata={'source': 'john_wick_3.csv', 'row': 7, 'Review_Date': '18 May 2019', 'Review_Title': ' Less is more\\n', 'Review_Url': '/review/rw4862630/?ref_=tt_urv', 'Author': 'drjgardner', 'Rating': 4, 'Movie_Title': 'John Wick 3', 'last_accessed_at': datetime.datetime(2024, 9, 29, 16, 49, 1, 571449)}\n",
            "page_content=': 8\n",
            "Review: About 6 months ago I saw a picture of the set of 'John Wick: Chapter 3 - Parabellum' featuring Keanu Reeves on horseback shooting at motorcyclists. It was such a great looking shot that I have been waiting eagerly to see how it looked in the actual film ever since. It did not let me down. The style this film possesses is insane. It is one of the best looking action films I have ever seen.' metadata={'source': 'john_wick_3.csv', 'row': 8, 'Review_Date': '15 May 2019', 'Review_Title': ' A brutal non-stop ride\\n', 'Review_Url': '/review/rw4854687/?ref_=tt_urv', 'Author': 'jtindahouse', 'Rating': 8, 'Movie_Title': 'John Wick 3', 'last_accessed_at': datetime.datetime(2024, 9, 29, 16, 49, 1, 571451)}\n",
            "page_content=': 9\n",
            "Review: Fantastically choreographed action, especially in the first 30 minutes. After that, it drops off a bit in my opinion up until the final sequence.' metadata={'source': 'john_wick_3.csv', 'row': 9, 'Review_Date': '15 May 2019', 'Review_Title': ' Great for Action Movie Fanatics\\n', 'Review_Url': '/review/rw4855764/?ref_=tt_urv', 'Author': 'FKDZ', 'Rating': 6, 'Movie_Title': 'John Wick 3', 'last_accessed_at': datetime.datetime(2024, 9, 29, 16, 49, 1, 571453)}\n",
            "page_content=': 10\n",
            "Review: This universe, created without any source material, had to develop and expand itself in every new film. The same fiction can not be made for each film. We don't know if Derek Kolstad had thought that John Wick would be this big when he first created it, but when we came to the third film it seems clear how the story deepened and became beautiful.' metadata={'source': 'john_wick_3.csv', 'row': 10, 'Review_Date': '17 May 2019', 'Review_Title': \" It's got its own action style!\\n\", 'Review_Url': '/review/rw4860412/?ref_=tt_urv', 'Author': 'ahmetkozan', 'Rating': 9, 'Movie_Title': 'John Wick 3', 'last_accessed_at': datetime.datetime(2024, 9, 29, 16, 49, 1, 571454)}\n",
            "page_content=': 11\n",
            "Review: The overrated \"John Wick: Chapter 3 - Parabellum\" is an action film that gives the sensation of watching a boring videogame. The plot is only John Wick running and killing the assassins that want the 14 million dollar award for his head. After the initial original deaths, the film becomes tiresome, boring and repetitive. My vote is three.' metadata={'source': 'john_wick_3.csv', 'row': 11, 'Review_Date': '1 September 2019', 'Review_Title': ' Gives the Sensation of Watching a Boring Videogame\\n', 'Review_Url': '/review/rw5093352/?ref_=tt_urv', 'Author': 'claudio_carvalho', 'Rating': 3, 'Movie_Title': 'John Wick 3', 'last_accessed_at': datetime.datetime(2024, 9, 29, 16, 49, 1, 571456)}\n",
            "page_content=': 12\n",
            "Review: This films is like watching someone else play a video game, and that someone has put in the immortality cheat. After 15-20 minutes, it's dull, repetitive and then ultimately stupid and lacking in any humanity.' metadata={'source': 'john_wick_3.csv', 'row': 12, 'Review_Date': '20 May 2019', 'Review_Title': ' 1 dimensional boredom\\n', 'Review_Url': '/review/rw4868283/?ref_=tt_urv', 'Author': 'casagrandicooper', 'Rating': 1, 'Movie_Title': 'John Wick 3', 'last_accessed_at': datetime.datetime(2024, 9, 29, 16, 49, 1, 571457)}\n",
            "page_content=': 13\n",
            "Review: Following on from two deliriously entertaining, visually gorgeous and blissfully simplistic thrillers, John Wick: Chapter 3 - Parabellum keeps up the franchise's unique appeal in stunning fashion. Complete with electrifying action, beautiful cinematography, a pulsating score and a great sense of humour, the film is pretty much as purely joyful as action thrillers get, and proves two hours of brilliant entertainment.' metadata={'source': 'john_wick_3.csv', 'row': 13, 'Review_Date': '15 May 2019', 'Review_Title': ' Pure, delirious joy in the form of yet another exhilarating thriller\\n', 'Review_Url': '/review/rw4855261/?ref_=tt_urv', 'Author': 'themadmovieman', 'Rating': 8, 'Movie_Title': 'John Wick 3', 'last_accessed_at': datetime.datetime(2024, 9, 29, 16, 49, 1, 571459)}\n",
            "page_content=': 14\n",
            "Review: Another significant increase in body count contribution, not including the injured and\\or maimed, as John inserts his wickedness into the flesh and bones of those whose aim is unworthy of their role in organised crime, either that, or they've never handled a weapon or are visually impaired or only shoot blanks or all three.' metadata={'source': 'john_wick_3.csv', 'row': 14, 'Review_Date': '29 August 2020', 'Review_Title': ' John Dips His Wick into Parabellum...\\n', 'Review_Url': '/review/rw6042433/?ref_=tt_urv', 'Author': 'Xstal', 'Rating': 7, 'Movie_Title': 'John Wick 3', 'last_accessed_at': datetime.datetime(2024, 9, 29, 16, 49, 1, 571461)}\n",
            "page_content=': 15\n",
            "Review: ...totally over-rated. I enjoyed the first 10 mins and thought it was going to be good, but it quickly became the most irritating film I have seen this year and after just half hour it was hard to watch. In the first 10 mins the story is already set, he is pronounced excommunicado which means he has no access to any help or recourse , he is cut off and a huge bounty is placed on his head, from then on everyone, everywhere knows him and is after the bounty, every road he walks in and every door he walks through he finds about 50 people he needs to kill so it is literally and execution by the second repeated over and over and over and over, and after 1 hour of being irritated so much it was over for me, thankfully, I turned it off' metadata={'source': 'john_wick_3.csv', 'row': 15, 'Review_Date': '12 July 2019', 'Review_Title': ' John Wick is excommunicado and ...\\n', 'Review_Url': '/review/rw4990871/?ref_=tt_urv', 'Author': 'brummieman', 'Rating': 2, 'Movie_Title': 'John Wick 3', 'last_accessed_at': datetime.datetime(2024, 9, 29, 16, 49, 1, 571462)}\n",
            "page_content=': 16\n",
            "Review: John Wick 3 is without a doubt the best action movie to have come out in a few years. And its so surprising and refreshing to see that movies like this still exist. Most action movies you see is filled with ridiculous amounts of shaky-cam, fast edits and way over-the-top fights. This is perfect. You can see all action clear as day, and by god the stuns in this film are extraordinary. Why the Academy Awards don't award talent like this is beyond me. There were times that I wondered if they had used CGI, because someone nuts must be willing to throw themselves from motorbikes and through glass. But whatever case it is, its a dam joy to watch.' metadata={'source': 'john_wick_3.csv', 'row': 16, 'Review_Date': '16 May 2019', 'Review_Title': \" Finally an action franchise than doesn't lose its touch!\\n\", 'Review_Url': '/review/rw4858493/?ref_=tt_urv', 'Author': 'Dannyboi94', 'Rating': 8, 'Movie_Title': 'John Wick 3', 'last_accessed_at': datetime.datetime(2024, 9, 29, 16, 49, 1, 571464)}\n",
            "page_content=': 17\n",
            "Review: I liked the first two movies, both had a meaning behind all the action that takes place, this movie the plot is weak and the fight scenes way too long for the weak plot. Keanu still portrays his character as the Boogeyman really well, I enjoyed it but just felt it dragged on a bit much and the fight scene especially with Halle could have been cut down.' metadata={'source': 'john_wick_3.csv', 'row': 17, 'Review_Date': '19 May 2019', 'Review_Title': ' Too much action, lacking storyline\\n', 'Review_Url': '/review/rw4864652/?ref_=tt_urv', 'Author': 'imamdin_rabia', 'Rating': 6, 'Movie_Title': 'John Wick 3', 'last_accessed_at': datetime.datetime(2024, 9, 29, 16, 49, 1, 571465)}\n",
            "page_content=': 18\n",
            "Review: The first John Wick movie had a story. It had a plot and some character development. This movie has no such thing.\n",
            "I like an action movie as much as the next guy, but this was way over the top. If you like gun play, endless, goofy, martial arts crap, and broken glass, this movie is for you!\n",
            "The last fight sequence was downright boring. I found myself wishing that the movie would just end; I didn't care who killed who. In fact, I was kind of hoping it would be Wick so that the movie would end and I could go home. The movie is about 30 minutes too long.\n",
            "Here's hoping that this is the end of the JW franchise, but I'm sure it won't be. I can guarantee i will not be fooled into purchasing a ticket to JW 4!' metadata={'source': 'john_wick_3.csv', 'row': 18, 'Review_Date': '19 May 2019', 'Review_Title': ' Silly\\n', 'Review_Url': '/review/rw4863706/?ref_=tt_urv', 'Author': 'jhr2012', 'Rating': 1, 'Movie_Title': 'John Wick 3', 'last_accessed_at': datetime.datetime(2024, 9, 29, 16, 49, 1, 571467)}\n",
            "page_content=': 19\n",
            "Review: The inevitable third chapter of the JOHN WICK franchise continues on a high with the same quality as the last. In fact, this may just pip that one to the post to be the best JOHN WICK yet. The pacing is spot on and the plotting is measured by a huge amount of action sequences, all of which fizz and crackle with skill and energy. The movie hits the ground running as Keanu faces off with a hulking character in a library and then Triads in a weapon shop, but what really amazes here is the sheer inventiveness of the non-repetitive action. There are horse and motorbike chases, a Moroccan brawl with fighting dogs, alongside the massive action of the climax. There also seems to be a greater emphasis on hand-to-hand combat, featuring the likes of RAID actors and old-timer Mark Dacascos, which is a real pleasure as the choreography is top-notch. In terms of sheer enjoyment, this is a film hard to beat, and to criticise it at all is unnecessary. Bring on the fourth!' metadata={'source': 'john_wick_3.csv', 'row': 19, 'Review_Date': '22 September 2019', 'Review_Title': ' Sheer enjoyment\\n', 'Review_Url': '/review/rw5135863/?ref_=tt_urv', 'Author': 'Leofwine_draca', 'Rating': 9, 'Movie_Title': 'John Wick 3', 'last_accessed_at': datetime.datetime(2024, 9, 29, 16, 49, 1, 571468)}\n",
            "page_content=': 20\n",
            "Review: Sadly the third John Wick film has deteriorated into a mindless, plotless, overly violent action scene that lasts for 2 hours. Zero plot, typical anti-male female characters, ridiculous levels of gore beyond what is needed. It's a clear indication that either the population is getting dumber that we have so many 10/10 reviews for this movie, or people are being paid to post positive reviews.' metadata={'source': 'john_wick_3.csv', 'row': 20, 'Review_Date': '13 July 2019', 'Review_Title': ' Boring Dull and full of Stereotypes\\n', 'Review_Url': '/review/rw4993039/?ref_=tt_urv', 'Author': 'janetwilkinson', 'Rating': 1, 'Movie_Title': 'John Wick 3', 'last_accessed_at': datetime.datetime(2024, 9, 29, 16, 49, 1, 571470)}\n",
            "page_content=': 21\n",
            "Review: ..THE FILM-MAKERS, { VERY SIGNIFICANTLY }, HAVE FORGOTTEN TO ADD { \" F A N T A S Y \" }, TO THEIR LITTLE LIST OF GENRES APPLICABLE TO \"JOHN WICK, CHAPTER 3 : PARABELLUM\" .' metadata={'source': 'john_wick_3.csv', 'row': 21, 'Review_Date': '31 July 2019', 'Review_Title': ' BIG FUN ⭐❕, ( B U T ).....\\n', 'Review_Url': '/review/rw5031070/?ref_=tt_urv', 'Author': 'Radio-1s_Mr-MovieMad-Ami_104-1FM', 'Rating': 7, 'Movie_Title': 'John Wick 3', 'last_accessed_at': datetime.datetime(2024, 9, 29, 16, 49, 1, 571471)}\n",
            "page_content=': 22\n",
            "Review: Lets contemplate about components of perfect action movie for a moment- What makes action movies special. Is it it's characters, is it ability to create fantastic choreography or maybe new, shiny special effects. Is it sound design or perhaps a good story ? What will elevate action movie to a new heights? What you need to do to create an instant classic? John Wick 3 creators might not have found all the answers but they definitely created something special and unique.' metadata={'source': 'john_wick_3.csv', 'row': 22, 'Review_Date': '18 May 2019', 'Review_Title': ' Pure brutal action with shallow, uninteresting story dragging it to the mediocrity.\\n', 'Review_Url': '/review/rw4862259/?ref_=tt_urv', 'Author': 'karmazyn', 'Rating': 6, 'Movie_Title': 'John Wick 3', 'last_accessed_at': datetime.datetime(2024, 9, 29, 16, 49, 1, 571473)}\n",
            "page_content=': 23\n",
            "Review: Rating 10/10\n",
            "I was able to catch an advanced screening of this movie on 13th of may 2019. One words i can say here is 'amazing' yes ... this movie so amazing !! One of the best action movie i ever seen. All the fighting scenes were choreographed wonderfully according to my opinion. Excellent acting performance by Keanu Reeves a.k.a John Wick. The guns shooting scenes were entirely cool. I would recommend this movie to any fans of action movie. You won't find a better movie of this type in the theatre right now and for the fans out there who appreciate this material, it will provide a memorable experience. Go see it you wont regret it.' metadata={'source': 'john_wick_3.csv', 'row': 23, 'Review_Date': '15 May 2019', 'Review_Title': ' A Masterpiece & Brilliant Sequel\\n', 'Review_Url': '/review/rw4854296/?ref_=tt_urv', 'Author': 'ymyuseda', 'Rating': 10, 'Movie_Title': 'John Wick 3', 'last_accessed_at': datetime.datetime(2024, 9, 29, 16, 49, 1, 571474)}\n",
            "page_content=': 24\n",
            "Review: John Wick: Chapter 3 - Parabellum is quite literally about consequences, dealing with the fallout of John's actions at the end of the previous film and sending him on an even bigger odyssey of violence that continues to explore this world of assassination and deliver beautifully clean action sequences.' metadata={'source': 'john_wick_3.csv', 'row': 24, 'Review_Date': '17 May 2019', 'Review_Title': ' Makes John Wick a superb trilogy\\n', 'Review_Url': '/review/rw4860603/?ref_=tt_urv', 'Author': 'masonsaul', 'Rating': 10, 'Movie_Title': 'John Wick 3', 'last_accessed_at': datetime.datetime(2024, 9, 29, 16, 49, 1, 571476)}\n",
            "page_content=': 0\n",
            "Review: Imagine a video game where you are shooting bad guys. Your hardware is old so everything is kind of slow and out of focus. The opponents are set to Easy and you installed a hack to give you invincibility and autoaim. And they come at you slowly, shouting, out in the open, with weapons that fire three or four bullets before they run out and they can shoot anything anyway. They use no snipers, no explosives, no traps of any kind. They can't even hit you when they're next to you and wielding a knife. And you try to fight them in a decent manner, yet your avatar moves like a 60 year old man and even with the autoaim you still suck. And if you somehow get into the many separate levels where nothing make sense, you get a big cinematic that takes you out of it. And because the cinematic is in 4k or whatever, it feels like slow motion.' metadata={'source': 'john_wick_4.csv', 'row': 0, 'Review_Date': '23 May 2023', 'Review_Title': ' What a pointless film\\n', 'Review_Url': '/review/rw9073117/?ref_=tt_urv', 'Author': 'siderite', 'Rating': 4, 'Movie_Title': 'John Wick 4', 'last_accessed_at': datetime.datetime(2024, 9, 30, 16, 49, 1, 572173)}\n",
            "page_content=': 1\n",
            "Review: The Table, the international crminal brotherhood which has condemned John Wick empowers The Marquis to deal with him (and the Manager of the New York Continentale Hotel). But maybe, just maybe, there is a way out.' metadata={'source': 'john_wick_4.csv', 'row': 1, 'Review_Date': '30 March 2023', 'Review_Title': ' There is such a thing as too much\\n', 'Review_Url': '/review/rw8960544/?ref_=tt_urv', 'Author': 'neil-476', 'Rating': 5, 'Movie_Title': 'John Wick 4', 'last_accessed_at': datetime.datetime(2024, 9, 30, 16, 49, 1, 572179)}\n",
            "page_content=': 2\n",
            "Review: The first three John Wick films came in fairly quick succession, with only five years between the first and third chapters, each film trying to top the one before in terms of wild set pieces. For me, it all became a bit too much, the action rapidly becoming too frenetic and over-the-top. By Parabellum (part three), I had had enough.' metadata={'source': 'john_wick_4.csv', 'row': 2, 'Review_Date': '25 March 2023', 'Review_Title': ' It got on my wick.\\n', 'Review_Url': '/review/rw8950606/?ref_=tt_urv', 'Author': 'BA_Harrison', 'Rating': 4, 'Movie_Title': 'John Wick 4', 'last_accessed_at': datetime.datetime(2024, 9, 30, 16, 49, 1, 572181)}\n",
            "page_content=': 3\n",
            "Review: These John Wick movies can be sort of fun in the sense that they are unintelligent violent nonsense pretending to be movies. There is something entertaining about dumb nonsense sometimes, and the first two of this franchise was decently okay in this regard. The last one and this one however not so much, only dumb.' metadata={'source': 'john_wick_4.csv', 'row': 3, 'Review_Date': '23 May 2023', 'Review_Title': ' I was rolling my eyes the whole time... all 3 hours...\\n', 'Review_Url': '/review/rw9072963/?ref_=tt_urv', 'Author': 'namob-43673', 'Rating': 3, 'Movie_Title': 'John Wick 4', 'last_accessed_at': datetime.datetime(2024, 9, 30, 16, 49, 1, 572183)}\n",
            "page_content=': 4\n",
            "Review: I went to the cinema with great expectations. I have to admit that the photography is gorgeous, the locations are wonderful and the action sequences are well coordinated. However I feel that the true identity of this franchise was completely lost with this fourth chapter. The first two movies for me are the best because the stunts look more credible. \"Parabellum\" started to drop in quality, but it was still a solid flick. Here John suddenly became a superhero that can take any hit and can fall from every height and he can just keep going like nothing happened. When Chad Stahelski directed the first movie he was not expecting all this success and when the production company ordered sequels, he did not really know how to develop this saga. Now it is one of the biggest action franchises with a TV show that will be aired in the future and maybe with a 5th entry that was already approved. This got definitely out of hand and Wick basically became the parody of himself, with scenes that have forced comedic moments that do not quite deliver. In my perspective they really do not know what to invent anymore. I really hope that in the future screenwriters and the director will come up with better ideas, because it is a series with potential and it showed it in the previous chapters, but in this case it just felt pointless and purposeless.' metadata={'source': 'john_wick_4.csv', 'row': 4, 'Review_Date': '24 March 2023', 'Review_Title': ' John Wick became the parody of himself. The true identity of this franchise is completely lost.\\n', 'Review_Url': '/review/rw8948738/?ref_=tt_urv', 'Author': 'fciocca', 'Rating': 4, 'Movie_Title': 'John Wick 4', 'last_accessed_at': datetime.datetime(2024, 9, 30, 16, 49, 1, 572184)}\n",
            "page_content=': 5\n",
            "Review: What is all the raving about with this movie? I felt it lacked a decent storyline and was 2 hours and 35 mins of fighting while the remaining 10 or so minutes was acting.' metadata={'source': 'john_wick_4.csv', 'row': 5, 'Review_Date': '2 April 2023', 'Review_Title': ' Am I missing something here?\\n', 'Review_Url': '/review/rw8967740/?ref_=tt_urv', 'Author': 'skyhawk747', 'Rating': 4, 'Movie_Title': 'John Wick 4', 'last_accessed_at': datetime.datetime(2024, 9, 30, 16, 49, 1, 572186)}\n",
            "page_content=': 6\n",
            "Review: In this fourth installment of 8711's successful franchise, Keanu Reeves wearily drags himself from setpiece to setpiece, saying little, surviving the most ridiculous setups and finally achieves nothing.' metadata={'source': 'john_wick_4.csv', 'row': 6, 'Review_Date': '24 March 2023', 'Review_Title': ' \"Yeah.\"\\n', 'Review_Url': '/review/rw8947952/?ref_=tt_urv', 'Author': 'IMDbKeepsDeletingMyReviews', 'Rating': 5, 'Movie_Title': 'John Wick 4', 'last_accessed_at': datetime.datetime(2024, 9, 30, 16, 49, 1, 572187)}\n",
            "page_content=': 7\n",
            "Review: In my opinion this is by far the worst movie of the franchise. It's just way too over the top. Everybody seems to have magical jackets now to stop the bullets.' metadata={'source': 'john_wick_4.csv', 'row': 7, 'Review_Date': '23 April 2023', 'Review_Title': \" I don't understand the great scores of this movie\\n\", 'Review_Url': '/review/rw9011753/?ref_=tt_urv', 'Author': 'antti-eskelinen-329-929792', 'Rating': 4, 'Movie_Title': 'John Wick 4', 'last_accessed_at': datetime.datetime(2024, 9, 30, 16, 49, 1, 572189)}\n",
            "page_content=': 8\n",
            "Review: Very much over rated. Repetitive, tiring and inauthentic fight choreography for 3 hrs straight. Unnatural and generic one liner filled script. No deep drama whatsoever. Just bland, perpetual killings till one is numb. Awful and fake seeming blood effects. Bland, cliched action hero.' metadata={'source': 'john_wick_4.csv', 'row': 8, 'Review_Date': '28 May 2023', 'Review_Title': ' Disappointed.\\n', 'Review_Url': '/review/rw9082993/?ref_=tt_urv', 'Author': 'dstan-71445', 'Rating': 2, 'Movie_Title': 'John Wick 4', 'last_accessed_at': datetime.datetime(2024, 9, 30, 16, 49, 1, 572190)}\n",
            "page_content=': 9\n",
            "Review: ...all at the same time. This hybrid comic book-video game has a stupid plot, worse than average acting, and fight scenes that are so poorly done you don't mind going to the bathroom. Don't get me wrong. I loved John Wick 1. Thought #2 was OK. Then came #3., It showed they were out of imagination and should have stopped with #2. Now with #4 they show that they are not artists or creatives but merely clowns looking for as buck.' metadata={'source': 'john_wick_4.csv', 'row': 9, 'Review_Date': '30 March 2023', 'Review_Title': ' Ridiculous, boring and pathetic...\\n', 'Review_Url': '/review/rw8959398/?ref_=tt_urv', 'Author': 'drjgardner', 'Rating': 2, 'Movie_Title': 'John Wick 4', 'last_accessed_at': datetime.datetime(2024, 9, 30, 16, 49, 1, 572192)}\n",
            "page_content=': 10\n",
            "Review: Most American action flicks released these days have poor screenplays and overuse computer-generated imagery. The John Wick franchise is one of the few exceptions, along with Mission Impossible. These franchises keep getting better with every entry. Hollywood can make action masterpieces, but Marvel has greater demand, so that's what we get most of. It's a shame.' metadata={'source': 'john_wick_4.csv', 'row': 10, 'Review_Date': '22 March 2023', 'Review_Title': ' How Can Anyone Choose to Watch Marvel Over This?\\n', 'Review_Url': '/review/rw8944843/?ref_=tt_urv', 'Author': 'lovemichaeljordan', 'Rating': 8, 'Movie_Title': 'John Wick 4', 'last_accessed_at': datetime.datetime(2024, 9, 30, 16, 49, 1, 572193)}\n",
            "page_content=': 11\n",
            "Review: Who needs a 2hr and 40 min action movie? No one. Yes the action was good, but repeats so many times that it becomes so boring. How can hundreds of assassins not kill one man? Answer, not possible, only in this movie and series. How many times could the dog man have killed Wick? Many. So no other assassin could? Why would the table head get Caine to kill Wick when he knows he won't. You can challenge the head to a duel as a rule, but they only assigned a head for the first time ever in this movie? WTF? And then the head can select a replacement? And he selects a blind man. All Wick had to do was to stand on the side or drop down and he wouldn't get shot. I think everyone knew Wick didn't shoot in the last round, except for the stupid head bad guy. This is not an action movie, it's a fantasy.' metadata={'source': 'john_wick_4.csv', 'row': 11, 'Review_Date': '26 April 2023', 'Review_Title': ' NOPE\\n', 'Review_Url': '/review/rw9017658/?ref_=tt_urv', 'Author': 'kskmah', 'Rating': 1, 'Movie_Title': 'John Wick 4', 'last_accessed_at': datetime.datetime(2024, 9, 30, 16, 49, 1, 572195)}\n",
            "page_content=': 12\n",
            "Review: Half of this review will be me gushing about the action. Wow. Just wow. I was in complete awe. There were multiple times I was both tearing up and laughing at how unbelievably amazing the fight scenes are. Now this is nothing new for the John Wick series. But for me, this is far and away the best action of the entire series.' metadata={'source': 'john_wick_4.csv', 'row': 12, 'Review_Date': '24 March 2023', 'Review_Title': ' A new standard has been set for fight scenes\\n', 'Review_Url': '/review/rw8947764/?ref_=tt_urv', 'Author': 'FeastMode', 'Rating': 9, 'Movie_Title': 'John Wick 4', 'last_accessed_at': datetime.datetime(2024, 9, 30, 16, 49, 1, 572196)}\n",
            "page_content=': 13\n",
            "Review: From the very beginning to the end, nothing but endless kills, fighting, close combats, bloods squirts or splashes, KR after four chapters, he looked older, slower and tiresome. The screenplay was so pretentious and pointless, the dialog looked forced and boring, katana swords vs. Bullets, and almost every bullet could be fenced off by the katana sword blades. The scenarios and the plots just kept stacked up without any reason or clue, just kill, kill, kill...nothing but kills. All the fighting sequences just like Shaw Brothers' 1970s poor and laughable Hong Kong martial art movies, heavily choreographically staged, looked so forced and fake. Every kill was not killed with one bullets but many, yet the handguns seemed equipped with endless bullets, bang, bang, bang, even the fallen guys already dead, but still needed to be shot several times more to increase the violent sound effect. I don't know what's the purpose of making these 4th Chapter, and I think the 1st Chapter only needed a following 2nd Chapter to end it, but what the heck, brainless young viewers need bloody fights, more dead bodies, ridiculous screenplay with clueless storyline, no real plots or real story really needed, just created something like violent video games.' metadata={'source': 'john_wick_4.csv', 'row': 13, 'Review_Date': '29 March 2023', 'Review_Title': ' Where is the STORY? A brainless video game?\\n', 'Review_Url': '/review/rw8957575/?ref_=tt_urv', 'Author': 'MovieIQTest', 'Rating': 0, 'Movie_Title': 'John Wick 4', 'last_accessed_at': datetime.datetime(2024, 9, 30, 16, 49, 1, 572197)}\n",
            "page_content=': 14\n",
            "Review: By now you know what to expect from a John Wick movie. I thought the franchise was losing a little momentum in chapter 3 so I was worried this could be disappointing. It's not. It's even more on steroids than any Wick before! Even close to 3 hours it doesn't feel to long which is very special for a action movie. This franchise has set new standards. If anybody says a movie is good like John Wick, it better f'n be! The set pieces as everyone mentioned before are really insane this time. The Tokyo sceney with illuminated cherry blossoms was beautiful. The only super illogical thing that bothered me was that nobody flinched at the nightclub, eventually they did but after a whole 10 minute beatdown through the whole club, but then again it's a shady nightclub for high table people. If you liked the first three movies, get your ass to the cinema. Yeah.' metadata={'source': 'john_wick_4.csv', 'row': 14, 'Review_Date': '23 March 2023', 'Review_Title': ' Yeah\\n', 'Review_Url': '/review/rw8946621/?ref_=tt_urv', 'Author': 'markvanwasbeek', 'Rating': 9, 'Movie_Title': 'John Wick 4', 'last_accessed_at': datetime.datetime(2024, 9, 30, 16, 49, 1, 572199)}\n",
            "page_content=': 15\n",
            "Review: No idea how the ratings are as high as they are. If you thought the first one was enjoyable but the 3rd one was bull, read on.' metadata={'source': 'john_wick_4.csv', 'row': 15, 'Review_Date': '5 April 2023', 'Review_Title': ' Damp Wick\\n', 'Review_Url': '/review/rw8972614/?ref_=tt_urv', 'Author': 'rupali-38827', 'Rating': 4, 'Movie_Title': 'John Wick 4', 'last_accessed_at': datetime.datetime(2024, 9, 30, 16, 49, 1, 572200)}\n",
            "page_content=': 16\n",
            "Review: Ok, so I got back from seeing this entry yesterday night. I'm writing this review in the early hours after midnight as the film went on for a good whopping 2 hours & 39 minutes!! But we'll get to that in a bit...! Anyway, I was looking forward to this film since John Wick 3's release back in 2019 & this film has had a bit of a troubled history of getting pushed back until it finally got its March 2023 release. I must admit I was a bit skeptical, but, was looking forward to this as the John Wick films are ace, but this film was a bitter disappointment...!' metadata={'source': 'john_wick_4.csv', 'row': 16, 'Review_Date': '25 March 2023', 'Review_Title': ' John Weak 4: It Loses It Way\\n', 'Review_Url': '/review/rw8949045/?ref_=tt_urv', 'Author': 'vengeance20', 'Rating': 4, 'Movie_Title': 'John Wick 4', 'last_accessed_at': datetime.datetime(2024, 9, 30, 16, 49, 1, 572202)}\n",
            "page_content=': 17\n",
            "Review: Stuntman turned writer/director Chad Stahelski struck gold with his 2014 surprise hit John Wick. It was somewhat of a comeback for the legendary Keanu Reeves and reinvigorated the action genre. Since then it's become THE action juggernaut franchise. Now we are on number 4 and while usually things get redone with that amount of sequels, this film innovates and thrills to new heights in an absolute epic.' metadata={'source': 'john_wick_4.csv', 'row': 17, 'Review_Date': '16 March 2023', 'Review_Title': ' While the Wick franchise has already solidified itself one of the best in the action genre, this massive film is the most spectacular entry of the genre in 30 years.\\n', 'Review_Url': '/review/rw8932278/?ref_=tt_urv', 'Author': 'tresm87', 'Rating': 9, 'Movie_Title': 'John Wick 4', 'last_accessed_at': datetime.datetime(2024, 9, 30, 16, 49, 1, 572204)}\n",
            "page_content=': 18\n",
            "Review: Ever since the original John Wick, the franchise has set a standard of what action in Hollywood should be. Thanks to Chad Stahelski and Keanu Reeve's knowledge of the technical aspects of shooting action, they've been able to deliver expertly choreographed, shot, and edited action films that are now the go to as examples of great action filmmaking. And so, the expectations for the fourth film were fairly high, especially as it became more apparent this was not only the culmination of everything before it, but a whopping 169 minutes long. Rest assured, however, that it delivers in spades. Everything we have come to know and love is here, but with an infusion of creativity like we haven't seen from the franchise yet.' metadata={'source': 'john_wick_4.csv', 'row': 18, 'Review_Date': '17 March 2023', 'Review_Title': ' Not Just The Best John Wick, But Possibly One Of The Best Action Movies Ever\\n', 'Review_Url': '/review/rw8935367/?ref_=tt_urv', 'Author': 'cadillac20', 'Rating': 10, 'Movie_Title': 'John Wick 4', 'last_accessed_at': datetime.datetime(2024, 9, 30, 16, 49, 1, 572205)}\n",
            "page_content=': 19\n",
            "Review: John Wick: Chapter 4 picks up where Chapter 3: Parabellum left off. As has been the tradition in the sequels to this beloved martial arts action franchise the action starts from the very inception of the film's opening, and lasts until the curtain falls. JW4 is no exception to that rule. What it does do is improve on the prior installment, and solidify Keanu Reeves as the greatest martial arts action star of all time. If you don't accept that notion, then you must accept the fact that it solidifies Reeves and Director, Chad Stahelski, as the greatest martial arts action pairing of modern times.' metadata={'source': 'john_wick_4.csv', 'row': 19, 'Review_Date': '17 March 2023', 'Review_Title': ' The Best John Wick Sequel\\n', 'Review_Url': '/review/rw8935117/?ref_=tt_urv', 'Author': 'tkdlifemagazine', 'Rating': 9, 'Movie_Title': 'John Wick 4', 'last_accessed_at': datetime.datetime(2024, 9, 30, 16, 49, 1, 572207)}\n",
            "page_content=': 20\n",
            "Review: In a world where movie sequels seem to be loathed even before they are released, the 'John Wick' series has remained remarkably consistent and well received. In fact all three of the first films have the same IMDb rating of 7.4/10 and I noticed recently that I gave them all the same rating of 8/10. Incredibly, I think 'John Wick: Chapter 4' is the best the series has to offer. This movie was a wild ride.' metadata={'source': 'john_wick_4.csv', 'row': 20, 'Review_Date': '23 March 2023', 'Review_Title': ' THIS is how you justify a 3 hour runtime\\n', 'Review_Url': '/review/rw8946038/?ref_=tt_urv', 'Author': 'jtindahouse', 'Rating': 9, 'Movie_Title': 'John Wick 4', 'last_accessed_at': datetime.datetime(2024, 9, 30, 16, 49, 1, 572208)}\n",
            "page_content=': 21\n",
            "Review: He fights and bites, he fights and bites and fights. Fight, fight fight, bite, bite, bite, it's John Wick, the silliest action movie franchise in history...and it runs 2h49m so there's a lot of extra fighting and biting.' metadata={'source': 'john_wick_4.csv', 'row': 21, 'Review_Date': '27 May 2023', 'Review_Title': ' Itchy and Scratchy: The Movie...again and again\\n', 'Review_Url': '/review/rw9081081/?ref_=tt_urv', 'Author': 'leftbanker-1', 'Rating': 1, 'Movie_Title': 'John Wick 4', 'last_accessed_at': datetime.datetime(2024, 9, 30, 16, 49, 1, 572210)}\n",
            "page_content=': 22\n",
            "Review: HORRIBLE movie. I love John Wick. I mean I wouldn't pay to see one, but I love the series none the less. Even liked the third one even though the ending blew baby chunks. All the 10s and 9s scores are so damn fake it's hilarious. IMDB is a joke. Someone needs to start a real movie database and weed out the fake high scores, it's as ridiculous as John Wick 4. He walks away from every major injury or collision or building fall. Then he passes away from flesh wounds. What nonsense. The whole plot is nonsense. The fights scene are so boring. I got up to make a sandwich twice. Just the typical 100 judo throws and same shots to head. Numerous coup de grace's. I feel sorry for anyone who paid for this nonsense.' metadata={'source': 'john_wick_4.csv', 'row': 22, 'Review_Date': '25 March 2023', 'Review_Title': ' Horrible\\n', 'Review_Url': '/review/rw8949493/?ref_=tt_urv', 'Author': 'solidabs', 'Rating': 1, 'Movie_Title': 'John Wick 4', 'last_accessed_at': datetime.datetime(2024, 9, 30, 16, 49, 1, 572211)}\n",
            "page_content=': 23\n",
            "Review: Sitting through the nearly 3 hours of this opus, I can't say that I didn't get my money's worth. But the ride was so bombastic, dark and mumbly that at a certain point it was like being stuck on a roller coaster ride that I've gone through 10 times and gradually sunk deeper and deeper into my chair.' metadata={'source': 'john_wick_4.csv', 'row': 23, 'Review_Date': '27 March 2023', 'Review_Title': ' Sound And Fury Adds Up To Nothing\\n', 'Review_Url': '/review/rw8954612/?ref_=tt_urv', 'Author': 'statuskuo', 'Rating': 4, 'Movie_Title': 'John Wick 4', 'last_accessed_at': datetime.datetime(2024, 9, 30, 16, 49, 1, 572213)}\n",
            "page_content=': 24\n",
            "Review: John Wick: Chapter 4 is almost three hours of Keanu Reeves engaged in a gunfight, bookended with meaningless dialog-in-place-of-plot, and a lot of people being thrown down stairs. Of all the \"Wick\" movies, this is clearly the weakest one yet. Was anything added to the overall Wick-universe narrative? No. Did we see a whole lot of inconsequential people die? Yes. Did Keanu Reeves say \"yeah\" a lot? Yes.' metadata={'source': 'john_wick_4.csv', 'row': 24, 'Review_Date': '3 June 2023', 'Review_Title': ' Almost 3 hours of nothing\\n', 'Review_Url': '/review/rw9097584/?ref_=tt_urv', 'Author': 'Phil_H', 'Rating': 4, 'Movie_Title': 'John Wick 4', 'last_accessed_at': datetime.datetime(2024, 9, 30, 16, 49, 1, 572214)}\n"
          ]
        }
      ],
      "source": [
        "print(f\"Number of documents: {len(documents)}\")\n",
        "for doc in documents:\n",
        "    print(doc)  # Make sure each document has the necessary fields and structure."
      ]
    },
    {
      "cell_type": "code",
      "execution_count": 118,
      "metadata": {},
      "outputs": [
        {
          "data": {
            "text/plain": [
              "Document(metadata={'source': 'john_wick_1.csv', 'row': 0, 'Review_Date': '6 May 2015', 'Review_Title': ' Kinetic, concise, and stylish; John Wick kicks ass.\\n', 'Review_Url': '/review/rw3233896/?ref_=tt_urv', 'Author': 'lnvicta', 'Rating': 8, 'Movie_Title': 'John Wick 1', 'last_accessed_at': datetime.datetime(2024, 9, 27, 16, 49, 1, 570054)}, page_content=\": 0\\nReview: The best way I can describe John Wick is to picture Taken but instead of Liam Neeson it's Keanu Reeves and instead of his daughter it's his dog. That's essentially the plot of the movie. John Wick (Reeves) is out to seek revenge on the people who took something he loved from him. It's a beautifully simple premise for an action movie - when action movies get convoluted, they get bad i.e. A Good Day to Die Hard. John Wick gives the viewers what they want: Awesome action, stylish stunts, kinetic chaos, and a relatable hero to tie it all together. John Wick succeeds in its simplicity.\")"
            ]
          },
          "execution_count": 118,
          "metadata": {},
          "output_type": "execute_result"
        }
      ],
      "source": [
        "documents[0]"
      ]
    },
    {
      "cell_type": "code",
      "execution_count": 120,
      "metadata": {},
      "outputs": [
        {
          "name": "stderr",
          "output_type": "stream",
          "text": [
            "                                   \r"
          ]
        },
        {
          "ename": "ExceptionInRunner",
          "evalue": "The runner thread which was running the jobs raised an exeception. Read the traceback above to debug it. You can also pass `raise_exceptions=False` incase you want to show only a warning message instead.",
          "output_type": "error",
          "traceback": [
            "\u001b[0;31m---------------------------------------------------------------------------\u001b[0m",
            "\u001b[0;31mExceptionInRunner\u001b[0m                         Traceback (most recent call last)",
            "Cell \u001b[0;32mIn[120], line 1\u001b[0m\n\u001b[0;32m----> 1\u001b[0m testset \u001b[38;5;241m=\u001b[39m \u001b[43mgenerator\u001b[49m\u001b[38;5;241;43m.\u001b[39;49m\u001b[43mgenerate_with_langchain_docs\u001b[49m\u001b[43m(\u001b[49m\u001b[43mdocuments\u001b[49m\u001b[43m,\u001b[49m\u001b[43m \u001b[49m\u001b[38;5;241;43m20\u001b[39;49m\u001b[43m,\u001b[49m\u001b[43m \u001b[49m\u001b[43mdistributions\u001b[49m\u001b[43m,\u001b[49m\u001b[43m \u001b[49m\u001b[43mwith_debugging_logs\u001b[49m\u001b[38;5;241;43m=\u001b[39;49m\u001b[38;5;28;43;01mTrue\u001b[39;49;00m\u001b[43m,\u001b[49m\u001b[43m \u001b[49m\u001b[43mraise_exceptions\u001b[49m\u001b[38;5;241;43m=\u001b[39;49m\u001b[38;5;28;43;01mFalse\u001b[39;49;00m\u001b[43m)\u001b[49m\n",
            "File \u001b[0;32m/opt/homebrew/Caskroom/miniforge/base/envs/llmops-course/lib/python3.11/site-packages/ragas/testset/generator.py:206\u001b[0m, in \u001b[0;36mTestsetGenerator.generate_with_langchain_docs\u001b[0;34m(self, documents, test_size, distributions, with_debugging_logs, is_async, raise_exceptions, run_config)\u001b[0m\n\u001b[1;32m    204\u001b[0m distributions \u001b[38;5;241m=\u001b[39m distributions \u001b[38;5;129;01mor\u001b[39;00m {}\n\u001b[1;32m    205\u001b[0m \u001b[38;5;66;03m# chunk documents and add to docstore\u001b[39;00m\n\u001b[0;32m--> 206\u001b[0m \u001b[38;5;28;43mself\u001b[39;49m\u001b[38;5;241;43m.\u001b[39;49m\u001b[43mdocstore\u001b[49m\u001b[38;5;241;43m.\u001b[39;49m\u001b[43madd_documents\u001b[49m\u001b[43m(\u001b[49m\n\u001b[1;32m    207\u001b[0m \u001b[43m    \u001b[49m\u001b[43m[\u001b[49m\u001b[43mDocument\u001b[49m\u001b[38;5;241;43m.\u001b[39;49m\u001b[43mfrom_langchain_document\u001b[49m\u001b[43m(\u001b[49m\u001b[43mdoc\u001b[49m\u001b[43m)\u001b[49m\u001b[43m \u001b[49m\u001b[38;5;28;43;01mfor\u001b[39;49;00m\u001b[43m \u001b[49m\u001b[43mdoc\u001b[49m\u001b[43m \u001b[49m\u001b[38;5;129;43;01min\u001b[39;49;00m\u001b[43m \u001b[49m\u001b[43mdocuments\u001b[49m\u001b[43m]\u001b[49m\n\u001b[1;32m    208\u001b[0m \u001b[43m\u001b[49m\u001b[43m)\u001b[49m\n\u001b[1;32m    210\u001b[0m \u001b[38;5;28;01mreturn\u001b[39;00m \u001b[38;5;28mself\u001b[39m\u001b[38;5;241m.\u001b[39mgenerate(\n\u001b[1;32m    211\u001b[0m     test_size\u001b[38;5;241m=\u001b[39mtest_size,\n\u001b[1;32m    212\u001b[0m     distributions\u001b[38;5;241m=\u001b[39mdistributions,\n\u001b[0;32m   (...)\u001b[0m\n\u001b[1;32m    216\u001b[0m     run_config\u001b[38;5;241m=\u001b[39mrun_config,\n\u001b[1;32m    217\u001b[0m )\n",
            "File \u001b[0;32m/opt/homebrew/Caskroom/miniforge/base/envs/llmops-course/lib/python3.11/site-packages/ragas/testset/docstore.py:214\u001b[0m, in \u001b[0;36mInMemoryDocumentStore.add_documents\u001b[0;34m(self, docs, show_progress)\u001b[0m\n\u001b[1;32m    209\u001b[0m \u001b[38;5;66;03m# split documents with self.splitter into smaller nodes\u001b[39;00m\n\u001b[1;32m    210\u001b[0m nodes \u001b[38;5;241m=\u001b[39m [\n\u001b[1;32m    211\u001b[0m     Node\u001b[38;5;241m.\u001b[39mfrom_langchain_document(d)\n\u001b[1;32m    212\u001b[0m     \u001b[38;5;28;01mfor\u001b[39;00m d \u001b[38;5;129;01min\u001b[39;00m \u001b[38;5;28mself\u001b[39m\u001b[38;5;241m.\u001b[39msplitter\u001b[38;5;241m.\u001b[39mtransform_documents(docs)\n\u001b[1;32m    213\u001b[0m ]\n\u001b[0;32m--> 214\u001b[0m \u001b[38;5;28;43mself\u001b[39;49m\u001b[38;5;241;43m.\u001b[39;49m\u001b[43madd_nodes\u001b[49m\u001b[43m(\u001b[49m\u001b[43mnodes\u001b[49m\u001b[43m,\u001b[49m\u001b[43m \u001b[49m\u001b[43mshow_progress\u001b[49m\u001b[38;5;241;43m=\u001b[39;49m\u001b[43mshow_progress\u001b[49m\u001b[43m)\u001b[49m\n",
            "File \u001b[0;32m/opt/homebrew/Caskroom/miniforge/base/envs/llmops-course/lib/python3.11/site-packages/ragas/testset/docstore.py:253\u001b[0m, in \u001b[0;36mInMemoryDocumentStore.add_nodes\u001b[0;34m(self, nodes, show_progress)\u001b[0m\n\u001b[1;32m    251\u001b[0m results \u001b[38;5;241m=\u001b[39m executor\u001b[38;5;241m.\u001b[39mresults()\n\u001b[1;32m    252\u001b[0m \u001b[38;5;28;01mif\u001b[39;00m \u001b[38;5;129;01mnot\u001b[39;00m results:\n\u001b[0;32m--> 253\u001b[0m     \u001b[38;5;28;01mraise\u001b[39;00m ExceptionInRunner()\n\u001b[1;32m    255\u001b[0m \u001b[38;5;28;01mfor\u001b[39;00m i, n \u001b[38;5;129;01min\u001b[39;00m \u001b[38;5;28menumerate\u001b[39m(nodes):\n\u001b[1;32m    256\u001b[0m     \u001b[38;5;28;01mif\u001b[39;00m i \u001b[38;5;129;01min\u001b[39;00m nodes_to_embed\u001b[38;5;241m.\u001b[39mkeys():\n",
            "\u001b[0;31mExceptionInRunner\u001b[0m: The runner thread which was running the jobs raised an exeception. Read the traceback above to debug it. You can also pass `raise_exceptions=False` incase you want to show only a warning message instead."
          ]
        }
      ],
      "source": [
        "testset = generator.generate_with_langchain_docs(documents, 20, distributions, with_debugging_logs=True, raise_exceptions=False)"
      ]
    },
    {
      "cell_type": "code",
      "execution_count": null,
      "metadata": {},
      "outputs": [],
      "source": []
    },
    {
      "cell_type": "code",
      "execution_count": null,
      "metadata": {},
      "outputs": [],
      "source": []
    },
    {
      "cell_type": "code",
      "execution_count": null,
      "metadata": {},
      "outputs": [],
      "source": []
    },
    {
      "cell_type": "code",
      "execution_count": null,
      "metadata": {},
      "outputs": [],
      "source": []
    },
    {
      "cell_type": "code",
      "execution_count": null,
      "metadata": {},
      "outputs": [],
      "source": []
    },
    {
      "cell_type": "code",
      "execution_count": null,
      "metadata": {},
      "outputs": [],
      "source": []
    }
  ],
  "metadata": {
    "colab": {
      "provenance": [],
      "toc_visible": true
    },
    "kernelspec": {
      "display_name": "Python 3",
      "name": "python3"
    },
    "language_info": {
      "codemirror_mode": {
        "name": "ipython",
        "version": 3
      },
      "file_extension": ".py",
      "mimetype": "text/x-python",
      "name": "python",
      "nbconvert_exporter": "python",
      "pygments_lexer": "ipython3",
      "version": "3.11.10"
    }
  },
  "nbformat": 4,
  "nbformat_minor": 0
}
